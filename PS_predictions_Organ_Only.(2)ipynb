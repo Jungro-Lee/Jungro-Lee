{
  "nbformat": 4,
  "nbformat_minor": 0,
  "metadata": {
    "colab": {
      "provenance": [],
      "authorship_tag": "ABX9TyPYSQ+ItC4KiqXOZnzD+9YZ",
      "include_colab_link": true
    },
    "kernelspec": {
      "name": "python3",
      "display_name": "Python 3"
    },
    "language_info": {
      "name": "python"
    },
    "accelerator": "GPU",
    "gpuClass": "standard"
  },
  "cells": [
    {
      "cell_type": "markdown",
      "metadata": {
        "id": "view-in-github",
        "colab_type": "text"
      },
      "source": [
        "<a href=\"https://colab.research.google.com/github/Jungro-Lee/Jungro-Lee/blob/master/PS_predictions_Organ_Only.(2)ipynb\" target=\"_parent\"><img src=\"https://colab.research.google.com/assets/colab-badge.svg\" alt=\"Open In Colab\"/></a>"
      ]
    },
    {
      "cell_type": "code",
      "source": [
        "!pip install monai"
      ],
      "metadata": {
        "colab": {
          "base_uri": "https://localhost:8080/"
        },
        "id": "LcxD-wFH0loV",
        "outputId": "b85a2953-187e-480f-b0f1-4b9f86da2846"
      },
      "execution_count": 19,
      "outputs": [
        {
          "output_type": "stream",
          "name": "stdout",
          "text": [
            "Looking in indexes: https://pypi.org/simple, https://us-python.pkg.dev/colab-wheels/public/simple/\n",
            "Requirement already satisfied: monai in /usr/local/lib/python3.9/dist-packages (1.1.0)\n",
            "Requirement already satisfied: numpy>=1.17 in /usr/local/lib/python3.9/dist-packages (from monai) (1.22.4)\n",
            "Requirement already satisfied: torch>=1.8 in /usr/local/lib/python3.9/dist-packages (from monai) (1.13.1+cu116)\n",
            "Requirement already satisfied: typing-extensions in /usr/local/lib/python3.9/dist-packages (from torch>=1.8->monai) (4.5.0)\n"
          ]
        }
      ]
    },
    {
      "cell_type": "code",
      "source": [
        "!pip install einops"
      ],
      "metadata": {
        "colab": {
          "base_uri": "https://localhost:8080/"
        },
        "id": "ZJeua72vnaRE",
        "outputId": "d789e501-869d-4bf3-a562-9ab2668c95a5"
      },
      "execution_count": 20,
      "outputs": [
        {
          "output_type": "stream",
          "name": "stdout",
          "text": [
            "Looking in indexes: https://pypi.org/simple, https://us-python.pkg.dev/colab-wheels/public/simple/\n",
            "Requirement already satisfied: einops in /usr/local/lib/python3.9/dist-packages (0.6.0)\n"
          ]
        }
      ]
    },
    {
      "cell_type": "code",
      "execution_count": 21,
      "metadata": {
        "id": "Wi83ZMk8yPFe",
        "colab": {
          "base_uri": "https://localhost:8080/"
        },
        "outputId": "ef645641-5203-4017-fc3b-f348e11ebb0b"
      },
      "outputs": [
        {
          "output_type": "stream",
          "name": "stdout",
          "text": [
            "torch.cuda.is_available(): True\n",
            "torch.cuda.get_device_name(0): Tesla T4\n",
            "torch.version.cuda: 11.6\n",
            "torch.cuda.device_count(): 1\n",
            "\n",
            "MONAI version: 1.1.0\n",
            "Numpy version: 1.22.4\n",
            "Pytorch version: 1.13.1+cu116\n",
            "MONAI flags: HAS_EXT = False, USE_COMPILED = False, USE_META_DICT = False\n",
            "MONAI rev id: a2ec3752f54bfc3b40e7952234fbeb5452ed63e3\n",
            "MONAI __file__: /usr/local/lib/python3.9/dist-packages/monai/__init__.py\n",
            "\n",
            "Optional dependencies:\n",
            "Pytorch Ignite version: NOT INSTALLED or UNKNOWN VERSION.\n",
            "Nibabel version: 3.0.2\n",
            "scikit-image version: 0.19.3\n",
            "Pillow version: 8.4.0\n",
            "Tensorboard version: 2.12.0\n",
            "gdown version: 4.6.6\n",
            "TorchVision version: 0.14.1+cu116\n",
            "tqdm version: 4.65.0\n",
            "lmdb version: NOT INSTALLED or UNKNOWN VERSION.\n",
            "psutil version: 5.9.4\n",
            "pandas version: 1.4.4\n",
            "einops version: 0.6.0\n",
            "transformers version: NOT INSTALLED or UNKNOWN VERSION.\n",
            "mlflow version: NOT INSTALLED or UNKNOWN VERSION.\n",
            "pynrrd version: NOT INSTALLED or UNKNOWN VERSION.\n",
            "\n",
            "For details about installing the optional dependencies, please visit:\n",
            "    https://docs.monai.io/en/latest/installation.html#installing-the-recommended-dependencies\n",
            "\n"
          ]
        }
      ],
      "source": [
        "import torch\n",
        "import torchvision as tv\n",
        "import torch.nn as nn\n",
        "from torch.nn import functional as F\n",
        "import time\n",
        "from PIL import Image\n",
        "import PIL\n",
        "import cv2\n",
        "import numpy as np\n",
        "import matplotlib.pyplot as plt\n",
        "import os\n",
        "import random\n",
        "from torchsummary import summary as model_summary\n",
        "import glob\n",
        "import nibabel as nib\n",
        "import skimage\n",
        "import sklearn\n",
        "from sklearn import model_selection\n",
        "import monai\n",
        "from monai.apps import download_and_extract\n",
        "from monai.config import print_config\n",
        "from monai.networks.nets import UNet\n",
        "from monai.networks.layers import Norm\n",
        "from monai.losses import DiceFocalLoss\n",
        "from monai.metrics import DiceMetric\n",
        "from monai.inferers import sliding_window_inference\n",
        "import tempfile\n",
        "from monai.networks.nets import UNet\n",
        "from monai.networks.layers import Norm\n",
        "from monai.transforms import (\n",
        "    Compose,\n",
        "    EnsureChannelFirstd,\n",
        "    LoadImage,\n",
        "    LoadImaged,\n",
        "    Orientationd,\n",
        "    Rand3DElasticd,\n",
        "    RandAffined,\n",
        "    Spacingd,\n",
        "    Resized,\n",
        "    NormalizeIntensityd,\n",
        "    ToTensord,\n",
        "    AsDiscrete,\n",
        ")\n",
        "from monai.config import print_config\n",
        "from typing import Optional\n",
        "\n",
        "from tqdm import tqdm\n",
        "# from tqdm.notebook import tqdm\n",
        "\n",
        "print(f'torch.cuda.is_available(): {torch.cuda.is_available()}')\n",
        "print(f'torch.cuda.get_device_name(0): {torch.cuda.get_device_name(0)}')\n",
        "print(f'torch.version.cuda: {torch.version.cuda}')\n",
        "print(f'torch.cuda.device_count(): {torch.cuda.device_count()}')\n",
        "print()\n",
        "monai.config.print_config()"
      ]
    },
    {
      "cell_type": "markdown",
      "source": [
        "## 구성\n",
        "1. 데이터 불러오기\n",
        "2. 데이터 체크(형태, 구조, 자료형 확인)\n",
        "3. 데이터 전처리\n",
        "    - minmax\n",
        "    - resize 등\n",
        "4. 2번 다시\n",
        "5. 시각화"
      ],
      "metadata": {
        "id": "czu-vMAr1TXs"
      }
    },
    {
      "cell_type": "code",
      "source": [
        "### HYPER PARAMETER ###\n",
        "\n",
        "RANDOM_SEED = 831\n",
        "IMAGE_SIZE = (128, 128, 128)\n",
        "BATCH_SIZE = 2\n",
        "NUM_CLASS = 2\n",
        "EPOCHS = 200\n",
        "test_ratio, val_ratio = 0.1, 0.2\n",
        "\n",
        "MODEL_SAVE = True\n",
        "if MODEL_SAVE:\n",
        "    model_dir1 = r\"C:\\Users\\jungr\\OneDrive\\바탕 화면\\data\"\n",
        "    model_dir2 = 'Segmentation(3D)-UNETR(bg)'\n",
        "    MODEL_SAVE_PATH = os.path.join(model_dir1, model_dir2)\n",
        "    os.makedirs(MODEL_SAVE_PATH, exist_ok=True)\n",
        "    \n",
        "DEVICE = torch.device('cuda' if torch.cuda.is_available() else 'cpu')\n",
        "# DEVICE = 'cpu'\n",
        "print(DEVICE)\n",
        "MODEL_SAVE_PATH"
      ],
      "metadata": {
        "id": "pxWUwX-X0kF3",
        "colab": {
          "base_uri": "https://localhost:8080/",
          "height": 54
        },
        "outputId": "5be3e5d7-79ca-460c-f841-f53372c992b9"
      },
      "execution_count": 22,
      "outputs": [
        {
          "output_type": "stream",
          "name": "stdout",
          "text": [
            "cuda\n"
          ]
        },
        {
          "output_type": "execute_result",
          "data": {
            "text/plain": [
              "'C:\\\\Users\\\\jungr\\\\OneDrive\\\\바탕 화면\\\\data/Segmentation(3D)-UNETR(bg)'"
            ],
            "application/vnd.google.colaboratory.intrinsic+json": {
              "type": "string"
            }
          },
          "metadata": {},
          "execution_count": 22
        }
      ]
    },
    {
      "cell_type": "markdown",
      "source": [
        "0. 데이터 준비\n",
        "- 데이터가 있으면 `data_dir`를 자신의 경로에 맞게 수정해주세요.\n",
        "- 데이터가 없으면 `USE_MY_DATA` 를 `False`로 두고 다운로드 받으면 됩니다.\n",
        "- The dataset comes from http://medicaldecathlon.com/."
      ],
      "metadata": {
        "id": "wUt3x2JU1gi5"
      }
    },
    {
      "cell_type": "code",
      "source": [
        "USE_MY_DATA = False\n",
        "\n",
        "if not USE_MY_DATA:\n",
        "    directory = os.environ.get(\"MONAI_DATA_DIRECTORY\")\n",
        "    root_dir = tempfile.mkdtemp() if directory is None else directory\n",
        "    print(f\"root dir is: {root_dir}\")\n",
        "    \n",
        "    resource = \"https://msd-for-monai.s3-us-west-2.amazonaws.com/Task09_Spleen.tar\"\n",
        "    md5 = \"410d4a301da4e5b2f6f86ec3ddba524e\"\n",
        "\n",
        "    compressed_file = os.path.join(root_dir, \"Task09_Spleen.tar\")\n",
        "    data_dir = os.path.join(root_dir, \"Task09_Spleen\")\n",
        "    if not os.path.exists(data_dir):\n",
        "        download_and_extract(resource, compressed_file, root_dir, md5)\n",
        "\n",
        "else:\n",
        "    data_dir = r\"C:\\Users\\jungr\\OneDrive\\바탕 화면\\data\\spleen_10.nii.gz\""
      ],
      "metadata": {
        "colab": {
          "base_uri": "https://localhost:8080/"
        },
        "id": "vl4zhhk91iEH",
        "outputId": "200be082-2f53-46ab-8dff-a8cee7659257"
      },
      "execution_count": 23,
      "outputs": [
        {
          "output_type": "stream",
          "name": "stdout",
          "text": [
            "root dir is: /tmp/tmprcy1s3g3\n"
          ]
        },
        {
          "output_type": "stream",
          "name": "stderr",
          "text": [
            "Task09_Spleen.tar: 1.50GB [00:58, 27.5MB/s]                            "
          ]
        },
        {
          "output_type": "stream",
          "name": "stdout",
          "text": [
            "2023-04-02 06:38:48,961 - INFO - Downloaded: /tmp/tmprcy1s3g3/Task09_Spleen.tar\n"
          ]
        },
        {
          "output_type": "stream",
          "name": "stderr",
          "text": [
            "\n"
          ]
        },
        {
          "output_type": "stream",
          "name": "stdout",
          "text": [
            "2023-04-02 06:38:51,903 - INFO - Verified 'Task09_Spleen.tar', md5: 410d4a301da4e5b2f6f86ec3ddba524e.\n",
            "2023-04-02 06:38:51,907 - INFO - Writing into directory: /tmp/tmprcy1s3g3.\n"
          ]
        }
      ]
    },
    {
      "cell_type": "code",
      "source": [
        "train_images = sorted(\n",
        "    glob.glob(os.path.join(data_dir, \"imagesTr\", \"*.nii.gz\")))\n",
        "train_labels = sorted(\n",
        "    glob.glob(os.path.join(data_dir, \"labelsTr\", \"*.nii.gz\")))\n",
        "data_dicts = [\n",
        "    {\"image\": image_name, \"label\": label_name}\n",
        "    for image_name, label_name in zip(train_images, train_labels)\n",
        "]\n",
        "train_data_dicts, val_data_dicts = data_dicts[:-9], data_dicts[-9:]\n",
        "train_data_dicts[0]"
      ],
      "metadata": {
        "colab": {
          "base_uri": "https://localhost:8080/"
        },
        "id": "C0UZTKtH1kA_",
        "outputId": "ac47d1e1-17a5-44af-eb83-0803ab3a7c4f"
      },
      "execution_count": 24,
      "outputs": [
        {
          "output_type": "execute_result",
          "data": {
            "text/plain": [
              "{'image': '/tmp/tmprcy1s3g3/Task09_Spleen/imagesTr/spleen_10.nii.gz',\n",
              " 'label': '/tmp/tmprcy1s3g3/Task09_Spleen/labelsTr/spleen_10.nii.gz'}"
            ]
          },
          "metadata": {},
          "execution_count": 24
        }
      ]
    },
    {
      "cell_type": "code",
      "source": [
        "train_images = sorted(\n",
        "    glob.glob(os.path.join(data_dir, \"imagesTr\", \"*.nii.gz\")))\n",
        "train_labels = sorted(\n",
        "    glob.glob(os.path.join(data_dir, \"labelsTr\", \"*.nii.gz\")))\n",
        "\n",
        "data_dicts = [\n",
        "    {\"image\": image_name, \"label\": label_name}\n",
        "    for image_name, label_name in zip(train_images, train_labels)\n",
        "]\n",
        "\n",
        "TrainSet, TestSet = model_selection.train_test_split(data_dicts, test_size=test_ratio, random_state=RANDOM_SEED)\n",
        "TrainSet, ValSet = model_selection.train_test_split(TrainSet, test_size=val_ratio, random_state=RANDOM_SEED)\n",
        "print('TrainSet:', len(TrainSet), 'ValSet:', len(ValSet), 'TestSet:', len(TestSet))"
      ],
      "metadata": {
        "id": "R1xlqjQc1mRy",
        "colab": {
          "base_uri": "https://localhost:8080/"
        },
        "outputId": "c99de74a-4792-4a46-a66e-88f7605b20d4"
      },
      "execution_count": 25,
      "outputs": [
        {
          "output_type": "stream",
          "name": "stdout",
          "text": [
            "TrainSet: 28 ValSet: 8 TestSet: 5\n"
          ]
        }
      ]
    },
    {
      "cell_type": "code",
      "source": [
        "for i in range(3):\n",
        "    sample_img = nib.load(TrainSet[i]['image']).get_fdata()\n",
        "    sample_mask = nib.load(TrainSet[i]['label']).get_fdata()\n",
        "    print(f\"[sample {i+1}] {os.path.basename(TrainSet[i]['image'])} {os.path.basename(TrainSet[i]['label'])}\")\n",
        "    print(sample_img.shape, sample_img.dtype, np.min(sample_img), np.max(sample_img))\n",
        "    print(sample_mask.shape, sample_mask.dtype, np.unique(sample_mask))"
      ],
      "metadata": {
        "colab": {
          "base_uri": "https://localhost:8080/"
        },
        "id": "Gu02y8YgYoE5",
        "outputId": "2639cdc4-1179-4a37-e6d0-0cae6e46647b"
      },
      "execution_count": 26,
      "outputs": [
        {
          "output_type": "stream",
          "name": "stdout",
          "text": [
            "[sample 1] spleen_2.nii.gz spleen_2.nii.gz\n",
            "(512, 512, 90) float64 -1024.0 3071.0\n",
            "(512, 512, 90) float64 [0. 1.]\n",
            "[sample 2] spleen_19.nii.gz spleen_19.nii.gz\n",
            "(512, 512, 51) float64 -1024.0 1372.0\n",
            "(512, 512, 51) float64 [0. 1.]\n",
            "[sample 3] spleen_17.nii.gz spleen_17.nii.gz\n",
            "(512, 512, 95) float64 -1024.0 1964.0\n",
            "(512, 512, 95) float64 [0. 1.]\n"
          ]
        }
      ]
    },
    {
      "cell_type": "code",
      "source": [
        "from monai.transforms.compose import Transform, MapTransform\n",
        "\n",
        "class MinMax(MapTransform):\n",
        "    def __init__(self, keys):\n",
        "        super().__init__(keys)\n",
        "\n",
        "    def __call__(self, data):\n",
        "        d = dict(data)\n",
        "        for key in self.keys:\n",
        "            d[key] -= np.min(d[key])\n",
        "            d[key] /= np.max(d[key])\n",
        "        return d\n",
        "\n",
        "loader = LoadImaged(keys=(\"image\",'label'), image_only=False)\n",
        "ensure_channel_first = EnsureChannelFirstd(keys=[\"image\",'label'])\n",
        "orientation = Orientationd(keys=[\"image\",'label'], axcodes=\"RAS\")\n",
        "resize_img = Resized(keys=[\"image\",], spatial_size=(IMAGE_SIZE), mode='trilinear')\n",
        "resize_mask = Resized(keys=['label',], spatial_size=(IMAGE_SIZE), mode='nearest-exact')\n",
        "# normalize = NormalizeIntensityd(keys=[\"image\",])\n",
        "minmax = MinMax(keys=['image',])"
      ],
      "metadata": {
        "id": "Je5lDytgYqGI"
      },
      "execution_count": 27,
      "outputs": []
    },
    {
      "cell_type": "code",
      "source": [
        "transforms = Compose([\n",
        "    LoadImaged(keys=(\"image\",'label'), image_only=False),\n",
        "    EnsureChannelFirstd(keys=[\"image\",'label']),\n",
        "    Orientationd(keys=[\"image\",'label'], axcodes=\"RAS\"),\n",
        "    Resized(keys=[\"image\",], spatial_size=(IMAGE_SIZE), mode='trilinear'),\n",
        "    Resized(keys=['label',], spatial_size=(IMAGE_SIZE), mode='nearest-exact'),\n",
        "    # normalize = NormalizeIntensityd(keys=[\"image\",])\n",
        "    MinMax(keys=['image',]),\n",
        "    ToTensord(keys=[\"image\", \"label\"]),\n",
        "    ])\n",
        "\n",
        "SampleSet = transforms(TestSet[:3])\n",
        "\n",
        "for i in range(3):\n",
        "    sample_img = SampleSet[i]['image']\n",
        "    sample_mask = SampleSet[i]['label']\n",
        "    print(f\"[sample {i+1}]\")\n",
        "    print(sample_img.shape, sample_img.dtype, torch.min(sample_img), torch.max(sample_img))\n",
        "    print(sample_mask.shape, sample_mask.dtype, torch.unique(sample_mask))"
      ],
      "metadata": {
        "colab": {
          "base_uri": "https://localhost:8080/"
        },
        "id": "avswFbrWYvVD",
        "outputId": "90fc5e48-4f65-45e9-a6f9-c6f5d50b2c55"
      },
      "execution_count": 28,
      "outputs": [
        {
          "output_type": "stream",
          "name": "stdout",
          "text": [
            "[sample 1]\n",
            "torch.Size([1, 128, 128, 128]) torch.float32 tensor(0.) tensor(1.)\n",
            "torch.Size([1, 128, 128, 128]) torch.float32 tensor([0., 1.])\n",
            "[sample 2]\n",
            "torch.Size([1, 128, 128, 128]) torch.float32 tensor(0.) tensor(1.)\n",
            "torch.Size([1, 128, 128, 128]) torch.float32 tensor([0., 1.])\n",
            "[sample 3]\n",
            "torch.Size([1, 128, 128, 128]) torch.float32 tensor(0.) tensor(1.)\n",
            "torch.Size([1, 128, 128, 128]) torch.float32 tensor([0., 1.])\n"
          ]
        }
      ]
    },
    {
      "cell_type": "code",
      "source": [
        "ncols, nrows = 10, 6\n",
        "interval = int(IMAGE_SIZE[-1]//(ncols*nrows/2))\n",
        "fig, axes = plt.subplots(ncols=ncols, nrows=nrows, figsize=(ncols,nrows))\n",
        "cnt1, cnt2 = 0, 0\n",
        "for i in range(nrows):\n",
        "    for j in range(ncols):\n",
        "        if i%2 == 0:\n",
        "            axes[i,j].imshow(SampleSet[0]['image'][0,:,:,cnt1], cmap='gray')\n",
        "            cnt1+=interval\n",
        "        else:\n",
        "            axes[i,j].imshow(SampleSet[0]['label'][0,:,:,cnt2], cmap='gray')\n",
        "            cnt2+=interval\n",
        "        axes[i,j].axis('off')\n",
        "plt.subplots_adjust(wspace=0, hspace=0, left=0, right=1, bottom=0, top=1)\n",
        "plt.show()  "
      ],
      "metadata": {
        "colab": {
          "base_uri": "https://localhost:8080/",
          "height": 636
        },
        "id": "qNkoZhf5YxbE",
        "outputId": "dc0e13ed-1e86-4308-bcae-ba8c395a34d6"
      },
      "execution_count": 29,
      "outputs": [
        {
          "output_type": "display_data",
          "data": {
            "text/plain": [
              "<Figure size 1000x600 with 60 Axes>"
            ],
            "image/png": "[encoded data removed]"
          },
          "metadata": {}
        }
      ]
    },
    {
      "cell_type": "code",
      "source": [
        "from monai.data import (\n",
        "    DataLoader,\n",
        "    CacheDataset,\n",
        "    load_decathlon_datalist,\n",
        "    decollate_batch,\n",
        ")\n",
        "\n",
        "train_ds = CacheDataset(\n",
        "    data=TrainSet,\n",
        "    transform=transforms,\n",
        "    cache_num=4,\n",
        "    cache_rate=1.0,\n",
        "    num_workers=0)\n",
        "val_ds = CacheDataset(\n",
        "    data=ValSet, transform=transforms, cache_num=2, cache_rate=1.0, num_workers=0)\n",
        "test_ds = CacheDataset(\n",
        "    data=TestSet, transform=transforms, cache_num=2, cache_rate=1.0, num_workers=0)\n",
        "\n",
        "train_loader = DataLoader(\n",
        "    train_ds, batch_size=BATCH_SIZE, shuffle=True, num_workers=0, pin_memory=True)\n",
        "val_loader = DataLoader(\n",
        "    val_ds, batch_size=1, shuffle=False, num_workers=0, pin_memory=True)\n",
        "test_loader = DataLoader(\n",
        "    test_ds, batch_size=1, shuffle=False, num_workers=0, pin_memory=True)"
      ],
      "metadata": {
        "colab": {
          "base_uri": "https://localhost:8080/"
        },
        "id": "vAmXkM5aY0dH",
        "outputId": "74bb5f08-8f8f-4550-a49e-edf918fe31b6"
      },
      "execution_count": 30,
      "outputs": [
        {
          "output_type": "stream",
          "name": "stderr",
          "text": [
            "Loading dataset: 100%|██████████| 4/4 [00:04<00:00,  1.13s/it]\n",
            "Loading dataset: 100%|██████████| 2/2 [00:01<00:00,  1.23it/s]\n",
            "Loading dataset: 100%|██████████| 2/2 [00:04<00:00,  2.17s/it]\n"
          ]
        }
      ]
    },
    {
      "cell_type": "code",
      "source": [
        "import copy\n",
        "import torch\n",
        "import torch.nn as nn\n",
        "import torch.nn.functional as F\n",
        "import math\n",
        "from einops import rearrange, reduce, repeat\n",
        "from einops.layers.torch import Rearrange, Reduce\n",
        "from torchsummary import summary\n",
        "from torch import Tensor\n",
        "\n",
        "class SingleDeconv3DBlock(nn.Module):\n",
        "    def __init__(self, in_planes, out_planes):\n",
        "        super().__init__()\n",
        "        self.block = nn.ConvTranspose3d(in_planes, out_planes, kernel_size=2, stride=2, padding=0, output_padding=0)\n",
        "\n",
        "    def forward(self, x):\n",
        "        return self.block(x)\n",
        "\n",
        "\n",
        "class SingleConv3DBlock(nn.Module):\n",
        "    def __init__(self, in_planes, out_planes, kernel_size):\n",
        "        super().__init__()\n",
        "        self.block = nn.Conv3d(in_planes, out_planes, kernel_size=kernel_size, stride=1,\n",
        "                               padding=((kernel_size - 1) // 2))\n",
        "\n",
        "    def forward(self, x):\n",
        "        return self.block(x)\n",
        "\n",
        "\n",
        "class Conv3DBlock(nn.Module):\n",
        "    def __init__(self, in_planes, out_planes, kernel_size=3):\n",
        "        super().__init__()\n",
        "        self.block = nn.Sequential(\n",
        "            SingleConv3DBlock(in_planes, out_planes, kernel_size),\n",
        "            nn.BatchNorm3d(out_planes),\n",
        "            nn.ReLU(True)\n",
        "        )\n",
        "\n",
        "    def forward(self, x):\n",
        "        return self.block(x)\n",
        "    \n",
        "    \n",
        "class Deconv3DBlock(nn.Module):\n",
        "    def __init__(self, in_planes, out_planes, kernel_size=3):\n",
        "        super().__init__()\n",
        "        self.block = nn.Sequential(\n",
        "            SingleDeconv3DBlock(in_planes, out_planes),\n",
        "            SingleConv3DBlock(out_planes, out_planes, kernel_size),\n",
        "            nn.BatchNorm3d(out_planes),\n",
        "            nn.ReLU(True)\n",
        "        )\n",
        "\n",
        "    def forward(self, x):\n",
        "        return self.block(x)    \n",
        "\n",
        "class Embeddings(nn.Module):\n",
        "    def __init__(self, input_shape, patch_size=16, embed_dim=768, dropout=0.):\n",
        "        super().__init__()\n",
        "        self.patch_size = patch_size\n",
        "        self.in_channels = input_shape[-4]\n",
        "        self.n_patches = int((input_shape[-1] * input_shape[-2] * input_shape[-3]) / (patch_size * patch_size * patch_size))\n",
        "        self.embed_dim = embed_dim\n",
        "        self.patch_embeddings = nn.Conv3d(in_channels=self.in_channels, out_channels=self.embed_dim,\n",
        "                                          kernel_size=self.patch_size, stride=self.patch_size)\n",
        "        self.position_embeddings = nn.Parameter(torch.zeros(1, self.n_patches, self.embed_dim))\n",
        "        self.dropout = nn.Dropout(dropout)\n",
        "\n",
        "    def forward(self, x):\n",
        "        x = self.patch_embeddings(x)\n",
        "        x = rearrange(x, \"b n h w d -> b (h w d) n\")\n",
        "        # batch, embed_dim, height/patch, width/patch, depth/patch\n",
        "        embeddings = x + self.position_embeddings\n",
        "        embeddings = self.dropout(embeddings)\n",
        "        return embeddings\n",
        "\n",
        "class MultiHeadAttention(nn.Module):\n",
        "    def __init__(self, emb_size: int = 768, num_heads: int = 8, dropout: float = 0):\n",
        "        super().__init__()\n",
        "        self.emb_size = emb_size\n",
        "        self.num_heads = num_heads\n",
        "        # fuse the queries, keys and values in one matrix\n",
        "        self.qkv = nn.Linear(emb_size, emb_size * 3)\n",
        "        self.att_drop = nn.Dropout(dropout)\n",
        "        self.projection = nn.Linear(emb_size, emb_size)\n",
        "        \n",
        "    def forward(self, x : Tensor, mask: Tensor = None) -> Tensor:\n",
        "        # split keys, queries and values in num_heads\n",
        "        qkv = rearrange(self.qkv(x), \"b n (h d qkv) -> (qkv) b h n d\", h=self.num_heads, qkv=3)\n",
        "        queries, keys, values = qkv[0], qkv[1], qkv[2]\n",
        "        # sum up over the last axis\n",
        "        energy = torch.einsum('bhqd, bhkd -> bhqk', queries, keys) # batch, num_heads, query_len, key_len\n",
        "        if mask is not None:\n",
        "            fill_value = torch.finfo(torch.float32).min\n",
        "            energy.mask_fill(~mask, fill_value)\n",
        "            \n",
        "        scaling = self.emb_size ** (1/2)\n",
        "        att = F.softmax(energy / scaling, dim=-1)\n",
        "        att = self.att_drop(att)\n",
        "        # sum up over the third axis\n",
        "        out = torch.einsum('bhal, bhlv -> bhav ', att, values)\n",
        "        out = rearrange(out, \"b h n d -> b n (h d)\")\n",
        "        out = self.projection(out)\n",
        "        return out\n",
        "\n",
        "class FeedForwardBlock(nn.Sequential):\n",
        "    def __init__(self, emb_size: int = 768, expansion: int = 4, drop_p: float = 0.):\n",
        "        super().__init__(\n",
        "            nn.Linear(emb_size, expansion * emb_size),\n",
        "            nn.GELU(),\n",
        "            nn.Dropout(drop_p),\n",
        "            nn.Linear(expansion * emb_size, emb_size),\n",
        "        )\n",
        "\n",
        "class PreNorm(nn.Module):\n",
        "    def __init__(self, dim, fn):\n",
        "        super().__init__()\n",
        "        self.norm = nn.LayerNorm(dim)\n",
        "        self.fn = fn\n",
        "    def forward(self, x, **kwargs):\n",
        "        return self.fn(self.norm(x), **kwargs)\n",
        "    \n",
        "class TransformerBlock(nn.Module):\n",
        "    def __init__(self, embed_dim=768, num_heads=8, depth=12, dropout=0., extract_layers=[3,6,9,12]):\n",
        "        super().__init__()\n",
        "        self.layers = nn.ModuleList([])\n",
        "        for _ in range(depth):\n",
        "            self.layers.append(nn.ModuleList([\n",
        "                PreNorm(embed_dim, MultiHeadAttention(embed_dim, num_heads, dropout)),\n",
        "                PreNorm(embed_dim, FeedForwardBlock(embed_dim, expansion=4))\n",
        "            ]))            \n",
        "        self.extract_layers = extract_layers\n",
        "        \n",
        "    def forward(self, x):\n",
        "        extract_layers = []\n",
        "        \n",
        "        for cnt, (attn, ff) in enumerate(self.layers):\n",
        "            x = attn(x) + x\n",
        "            x = ff(x) + x\n",
        "            if cnt+1 in self.extract_layers:\n",
        "                extract_layers.append(x)\n",
        "            \n",
        "        return extract_layers\n",
        "\n",
        "class UNETR(nn.Module):\n",
        "    def __init__(self, img_shape=(224, 224, 224), input_dim=3, output_dim=3, \n",
        "                 embed_dim=768, patch_size=16, num_heads=8, dropout=0.1, light_r=4):\n",
        "        super().__init__()\n",
        "        self.input_dim = input_dim\n",
        "        self.output_dim = output_dim\n",
        "        self.embed_dim = embed_dim\n",
        "        self.img_shape = img_shape\n",
        "        self.patch_size = patch_size\n",
        "        self.num_heads = num_heads\n",
        "        self.dropout = dropout\n",
        "        self.num_layers = 12\n",
        "        self.ext_layers = [3, 6, 9, 12]\n",
        "\n",
        "        self.patch_dim = [int(x / patch_size) for x in img_shape]\n",
        "        self.conv_channels = [int(i/light_r) for i in [32, 64, 128, 256, 512, 1024]]\n",
        "\n",
        "        self.embedding = Embeddings((input_dim,*img_shape))\n",
        "        \n",
        "        # Transformer Encoder\n",
        "        self.transformer = \\\n",
        "            TransformerBlock(\n",
        "            )\n",
        "\n",
        "        # U-Net Decoder\n",
        "        self.decoder0 = \\\n",
        "            nn.Sequential(\n",
        "                Conv3DBlock(input_dim, self.conv_channels[0], 3),\n",
        "                Conv3DBlock(self.conv_channels[0], self.conv_channels[1], 3)\n",
        "            )\n",
        "\n",
        "        self.decoder3 = \\\n",
        "            nn.Sequential(\n",
        "                Deconv3DBlock(embed_dim, self.conv_channels[2]),\n",
        "                Deconv3DBlock(self.conv_channels[2], self.conv_channels[2]),\n",
        "                Deconv3DBlock(self.conv_channels[2], self.conv_channels[2])\n",
        "            )\n",
        "\n",
        "        self.decoder6 = \\\n",
        "            nn.Sequential(\n",
        "                Deconv3DBlock(embed_dim, self.conv_channels[3]),\n",
        "                Deconv3DBlock(self.conv_channels[3], self.conv_channels[3]),\n",
        "            )\n",
        "\n",
        "        self.decoder9 = \\\n",
        "            Deconv3DBlock(embed_dim, self.conv_channels[4])\n",
        "\n",
        "        self.decoder12_upsampler = \\\n",
        "            SingleDeconv3DBlock(embed_dim, self.conv_channels[4])\n",
        "\n",
        "        self.decoder9_upsampler = \\\n",
        "            nn.Sequential(\n",
        "                Conv3DBlock(self.conv_channels[5], self.conv_channels[3]),\n",
        "                Conv3DBlock(self.conv_channels[3], self.conv_channels[3]),\n",
        "                Conv3DBlock(self.conv_channels[3], self.conv_channels[3]),\n",
        "                SingleDeconv3DBlock(self.conv_channels[3], self.conv_channels[3])\n",
        "            )\n",
        "\n",
        "        self.decoder6_upsampler = \\\n",
        "            nn.Sequential(\n",
        "                Conv3DBlock(self.conv_channels[4], self.conv_channels[2]),\n",
        "                Conv3DBlock(self.conv_channels[2], self.conv_channels[2]),\n",
        "                SingleDeconv3DBlock(self.conv_channels[2], self.conv_channels[2])\n",
        "            )\n",
        "\n",
        "        self.decoder3_upsampler = \\\n",
        "            nn.Sequential(\n",
        "                Conv3DBlock(self.conv_channels[3], self.conv_channels[1]),\n",
        "                Conv3DBlock(self.conv_channels[1], self.conv_channels[1]),\n",
        "                SingleDeconv3DBlock(self.conv_channels[1], self.conv_channels[1])\n",
        "            )\n",
        "\n",
        "        self.decoder0_header = \\\n",
        "            nn.Sequential(\n",
        "                Conv3DBlock(self.conv_channels[2], self.conv_channels[1]),\n",
        "                Conv3DBlock(self.conv_channels[1], self.conv_channels[1]),\n",
        "                SingleConv3DBlock(self.conv_channels[1], output_dim, 1)\n",
        "            )\n",
        "\n",
        "    def forward(self, x):\n",
        "        z0 = x\n",
        "        x = self.embedding(x)\n",
        "        z = self.transformer(x)\n",
        "        z3, z6, z9, z12 = z\n",
        "        z3 = z3.transpose(-1, -2).view(-1, self.embed_dim, *self.patch_dim)\n",
        "        z6 = z6.transpose(-1, -2).view(-1, self.embed_dim, *self.patch_dim)\n",
        "        z9 = z9.transpose(-1, -2).view(-1, self.embed_dim, *self.patch_dim)\n",
        "        z12 = z12.transpose(-1, -2).view(-1, self.embed_dim, *self.patch_dim)\n",
        "\n",
        "        z12 = self.decoder12_upsampler(z12)\n",
        "        z9 = self.decoder9(z9)\n",
        "        z9 = self.decoder9_upsampler(torch.cat([z9, z12], dim=1))\n",
        "        z6 = self.decoder6(z6)\n",
        "        z6 = self.decoder6_upsampler(torch.cat([z6, z9], dim=1))\n",
        "        z3 = self.decoder3(z3)\n",
        "        z3 = self.decoder3_upsampler(torch.cat([z3, z6], dim=1))\n",
        "        z0 = self.decoder0(z0)\n",
        "        output = self.decoder0_header(torch.cat([z0, z3], dim=1))\n",
        "        return output"
      ],
      "metadata": {
        "id": "0Nvhbw8h0AOU"
      },
      "execution_count": 31,
      "outputs": []
    },
    {
      "cell_type": "code",
      "source": [
        "from monai.networks.nets import UNETR\n",
        "\n",
        "model = UNETR(\n",
        "    in_channels=1,\n",
        "    out_channels=NUM_CLASS,\n",
        "    img_size=IMAGE_SIZE,\n",
        "    feature_size=16,\n",
        "    hidden_size=768,\n",
        "    mlp_dim=3072,\n",
        "    num_heads=12,\n",
        "    pos_embed=\"perceptron\",\n",
        "    norm_name=\"instance\",\n",
        "    res_block=True,\n",
        "    dropout_rate=0.0,\n",
        ").float()\n",
        "model = model.to(DEVICE)\n",
        "# model_summary(model, (1,*IMAGE_SIZE), device=DEVICE.type)"
      ],
      "metadata": {
        "id": "6VdbGBXLZbKp"
      },
      "execution_count": 32,
      "outputs": []
    },
    {
      "cell_type": "code",
      "source": [
        "from monai.losses import DiceCELoss, DiceLoss\n",
        "\n",
        "torch.backends.cudnn.benchmark = True # ??\n",
        "\n",
        "optimizer = torch.optim.Adam(model.parameters(), lr=1e-4, weight_decay=1e-4)\n",
        "# scheduler = optim.lr_scheduler.StepLR(optimizer, step_size=50, gamma=0.1)\n",
        "\n",
        "LossFuncion = monai.losses.DiceLoss(include_background=False, to_onehot_y=False, softmax=True)\n",
        "MetricDice = monai.metrics.DiceMetric(include_background=False, reduction=\"mean\")"
      ],
      "metadata": {
        "id": "CZlTB-0A8fWs"
      },
      "execution_count": 33,
      "outputs": []
    },
    {
      "cell_type": "code",
      "source": [
        "def BinaryOutput(output, keepdim=True):\n",
        "    shape = output.shape\n",
        "    argmax_idx = torch.argmax(output, axis=1, keepdim=True)\n",
        "    argmax_oh = F.one_hot(argmax_idx, num_classes=NUM_CLASS)\n",
        "    if keepdim:\n",
        "        argmax_oh = torch.squeeze(argmax_oh, dim=1)\n",
        "    if len(shape) == 5:\n",
        "        argmax_oh = argmax_oh.permute(0,4,1,2,3)\n",
        "    elif len(shape) == 4:\n",
        "        argmax_oh = argmax_oh.permute(0,3,1,2)\n",
        "    \n",
        "    return argmax_oh"
      ],
      "metadata": {
        "id": "dYko_KR38i4O"
      },
      "execution_count": 34,
      "outputs": []
    },
    {
      "cell_type": "code",
      "source": [
        "from monai.losses.dice import DiceLoss, one_hot\n",
        "\n",
        "def train(epoch, train_loader):\n",
        "    model.train()\n",
        "    mean_epoch_loss = 0\n",
        "    mean_dice_score = 0\n",
        "    epoch_iterator = tqdm(\n",
        "        train_loader, desc=\"Training (X / X EPOCHS) (loss=X.X) (dice score=%.5f)\", \n",
        "        dynamic_ncols=True)\n",
        "    \n",
        "    for step, batch in enumerate(epoch_iterator):\n",
        "        x, y = (batch[\"image\"].cuda(), batch[\"label\"].cuda())\n",
        "        y = torch.squeeze(y, dim=1)\n",
        "        y = one_hot(y[:, None, ...], num_classes=NUM_CLASS)\n",
        "        \n",
        "        logit_map = model(x)\n",
        "        loss = LossFuncion(logit_map, y)\n",
        "        loss.backward()\n",
        "        optimizer.step()\n",
        "        optimizer.zero_grad()\n",
        "        mean_epoch_loss += loss.item()\n",
        "        \n",
        "        bi_output = BinaryOutput(logit_map)\n",
        "        MetricDice(bi_output, y)\n",
        "        dice_score = MetricDice.aggregate().item()\n",
        "        mean_dice_score += dice_score\n",
        "        \n",
        "        epoch_iterator.set_description(\n",
        "            \"Training (%d / %d EPOCHS) (loss=%2.5f) (dice score=%.5f)\" \n",
        "            % (epoch, EPOCHS, loss, dice_score))\n",
        "    \n",
        "    mean_epoch_loss /= len(epoch_iterator)\n",
        "    mean_dice_score /= len(epoch_iterator)\n",
        "    \n",
        "    return mean_epoch_loss, mean_dice_score\n",
        "\n",
        "\n",
        "\n",
        "def evaluate(epoch, test_loader):\n",
        "    model.eval() \n",
        "    mean_epoch_loss = 0\n",
        "    mean_dice_score = 0\n",
        "    epoch_iterator = tqdm(\n",
        "        test_loader, desc=\"Evaluating (X / X EPOCHS) (loss=X.X) (dice score=%.5f)\", \n",
        "        dynamic_ncols=True)\n",
        "    \n",
        "    with torch.no_grad():\n",
        "        for step, batch in enumerate(epoch_iterator):\n",
        "            x, y = (batch[\"image\"].cuda(), batch[\"label\"].cuda())\n",
        "            y = torch.squeeze(y, dim=1)\n",
        "            y = one_hot(y[:, None, ...], num_classes=NUM_CLASS)\n",
        "\n",
        "            logit_map = model(x)\n",
        "            loss = LossFuncion(logit_map, y)\n",
        "            mean_epoch_loss += loss.item()\n",
        "\n",
        "            bi_output = BinaryOutput(logit_map)\n",
        "            MetricDice(bi_output, y)\n",
        "            dice_score = MetricDice.aggregate().item()\n",
        "            mean_dice_score += dice_score\n",
        "\n",
        "            epoch_iterator.set_description(\n",
        "                \"Evaluating (%d / %d EPOCHS) (loss=%2.5f) (dice score=%.5f)\" \n",
        "                % (epoch, EPOCHS, loss, dice_score))\n",
        "\n",
        "    mean_epoch_loss /= len(epoch_iterator)\n",
        "    mean_dice_score /= len(epoch_iterator)\n",
        "    \n",
        "    MetricDice.reset() # reset the status for next validation round\n",
        "    \n",
        "    return mean_epoch_loss, mean_dice_score    \n"
      ],
      "metadata": {
        "id": "POoa5w908nZu"
      },
      "execution_count": 35,
      "outputs": []
    },
    {
      "cell_type": "code",
      "source": [
        "losses = {'train':[], 'val':[]}\n",
        "dice_scores = {'train':[], 'val':[]}\n",
        "best_metric, best_epoch = 999, -1\n",
        "\n",
        "for epoch in range(1, EPOCHS+1):\n",
        "    train_loss, train_dice_score = train(epoch, train_loader)\n",
        "    val_loss, val_dice_score = evaluate(epoch, val_loader)\n",
        "    \n",
        "    losses['train'].append(train_loss)\n",
        "    losses['val'].append(val_loss)\n",
        "    dice_scores['train'].append(train_dice_score)\n",
        "    dice_scores['val'].append(val_dice_score)\n",
        "\n",
        "    if losses['val'][-1] < best_metric:\n",
        "        best_metric = losses['val'][-1]\n",
        "        best_epoch = epoch\n",
        "        print(f'Best record! [{epoch}] Test Loss: {val_loss:.6f}, Dice score: {val_dice_score:.6f}')\n",
        "        if MODEL_SAVE:\n",
        "            model_name = f'{best_epoch}_{best_metric}.pth'\n",
        "            torch.save(model.state_dict(), os.path.join(MODEL_SAVE_PATH, model_name))\n",
        "            print('saved model')\n"
      ],
      "metadata": {
        "colab": {
          "base_uri": "https://localhost:8080/"
        },
        "id": "WdG2ROcO8pDt",
        "outputId": "af7e2d34-2680-4648-9c1b-00fd1cee0552"
      },
      "execution_count": null,
      "outputs": [
        {
          "output_type": "stream",
          "name": "stderr",
          "text": [
            "Training (1 / 200 EPOCHS) (loss=0.98851) (dice score=0.00898): 100%|██████████| 14/14 [00:57<00:00,  4.07s/it]\n",
            "Evaluating (1 / 200 EPOCHS) (loss=0.98776) (dice score=0.01062): 100%|██████████| 8/8 [00:08<00:00,  1.04s/it]\n"
          ]
        },
        {
          "output_type": "stream",
          "name": "stdout",
          "text": [
            "Best record! [1] Test Loss: 0.984561, Dice score: 0.009796\n",
            "saved model\n"
          ]
        },
        {
          "output_type": "stream",
          "name": "stderr",
          "text": [
            "Training (2 / 200 EPOCHS) (loss=0.98566) (dice score=0.01613): 100%|██████████| 14/14 [00:58<00:00,  4.20s/it]\n",
            "Evaluating (2 / 200 EPOCHS) (loss=0.98601) (dice score=0.01693): 100%|██████████| 8/8 [00:07<00:00,  1.00it/s]\n"
          ]
        },
        {
          "output_type": "stream",
          "name": "stdout",
          "text": [
            "Best record! [2] Test Loss: 0.982266, Dice score: 0.016410\n",
            "saved model\n"
          ]
        },
        {
          "output_type": "stream",
          "name": "stderr",
          "text": [
            "Training (3 / 200 EPOCHS) (loss=0.97388) (dice score=0.01946): 100%|██████████| 14/14 [00:58<00:00,  4.18s/it]\n",
            "Evaluating (3 / 200 EPOCHS) (loss=0.98383) (dice score=0.02062): 100%|██████████| 8/8 [00:09<00:00,  1.17s/it]\n"
          ]
        },
        {
          "output_type": "stream",
          "name": "stdout",
          "text": [
            "Best record! [3] Test Loss: 0.979439, Dice score: 0.019889\n",
            "saved model\n"
          ]
        },
        {
          "output_type": "stream",
          "name": "stderr",
          "text": [
            "Training (4 / 200 EPOCHS) (loss=0.96971) (dice score=0.03327): 100%|██████████| 14/14 [00:58<00:00,  4.15s/it]\n",
            "Evaluating (4 / 200 EPOCHS) (loss=0.98158) (dice score=0.03680): 100%|██████████| 8/8 [00:08<00:00,  1.06s/it]\n"
          ]
        },
        {
          "output_type": "stream",
          "name": "stdout",
          "text": [
            "Best record! [4] Test Loss: 0.976424, Dice score: 0.034908\n",
            "saved model\n"
          ]
        },
        {
          "output_type": "stream",
          "name": "stderr",
          "text": [
            "Training (5 / 200 EPOCHS) (loss=0.97960) (dice score=0.05061): 100%|██████████| 14/14 [00:59<00:00,  4.25s/it]\n",
            "Evaluating (5 / 200 EPOCHS) (loss=0.97965) (dice score=0.05708): 100%|██████████| 8/8 [00:08<00:00,  1.09s/it]\n"
          ]
        },
        {
          "output_type": "stream",
          "name": "stdout",
          "text": [
            "Best record! [5] Test Loss: 0.975205, Dice score: 0.053279\n",
            "saved model\n"
          ]
        },
        {
          "output_type": "stream",
          "name": "stderr",
          "text": [
            "Training (6 / 200 EPOCHS) (loss=0.96438) (dice score=0.08223): 100%|██████████| 14/14 [00:58<00:00,  4.18s/it]\n",
            "Evaluating (6 / 200 EPOCHS) (loss=0.97652) (dice score=0.08885): 100%|██████████| 8/8 [00:08<00:00,  1.02s/it]\n"
          ]
        },
        {
          "output_type": "stream",
          "name": "stdout",
          "text": [
            "Best record! [6] Test Loss: 0.971353, Dice score: 0.084705\n",
            "saved model\n"
          ]
        },
        {
          "output_type": "stream",
          "name": "stderr",
          "text": [
            "Training (7 / 200 EPOCHS) (loss=0.98185) (dice score=0.10841): 100%|██████████| 14/14 [00:57<00:00,  4.13s/it]\n",
            "Evaluating (7 / 200 EPOCHS) (loss=0.97633) (dice score=0.11335): 100%|██████████| 8/8 [00:08<00:00,  1.07s/it]\n"
          ]
        },
        {
          "output_type": "stream",
          "name": "stdout",
          "text": [
            "Best record! [7] Test Loss: 0.970368, Dice score: 0.109440\n",
            "saved model\n"
          ]
        },
        {
          "output_type": "stream",
          "name": "stderr",
          "text": [
            "Training (8 / 200 EPOCHS) (loss=0.97978) (dice score=0.10616): 100%|██████████| 14/14 [00:58<00:00,  4.19s/it]\n",
            "Evaluating (8 / 200 EPOCHS) (loss=0.97495) (dice score=0.11583): 100%|██████████| 8/8 [00:08<00:00,  1.06s/it]\n"
          ]
        },
        {
          "output_type": "stream",
          "name": "stdout",
          "text": [
            "Best record! [8] Test Loss: 0.969515, Dice score: 0.110281\n",
            "saved model\n"
          ]
        },
        {
          "output_type": "stream",
          "name": "stderr",
          "text": [
            "Training (9 / 200 EPOCHS) (loss=0.98402) (dice score=0.13154): 100%|██████████| 14/14 [00:58<00:00,  4.15s/it]\n",
            "Evaluating (9 / 200 EPOCHS) (loss=0.97526) (dice score=0.14304): 100%|██████████| 8/8 [00:08<00:00,  1.02s/it]\n"
          ]
        },
        {
          "output_type": "stream",
          "name": "stdout",
          "text": [
            "Best record! [9] Test Loss: 0.967918, Dice score: 0.136478\n",
            "saved model\n"
          ]
        },
        {
          "output_type": "stream",
          "name": "stderr",
          "text": [
            "Training (10 / 200 EPOCHS) (loss=0.98441) (dice score=0.15338): 100%|██████████| 14/14 [00:58<00:00,  4.19s/it]\n",
            "Evaluating (10 / 200 EPOCHS) (loss=0.97388) (dice score=0.16210): 100%|██████████| 8/8 [00:09<00:00,  1.14s/it]\n"
          ]
        },
        {
          "output_type": "stream",
          "name": "stdout",
          "text": [
            "Best record! [10] Test Loss: 0.967765, Dice score: 0.156423\n",
            "saved model\n"
          ]
        },
        {
          "output_type": "stream",
          "name": "stderr",
          "text": [
            "Training (11 / 200 EPOCHS) (loss=0.95583) (dice score=0.16058): 100%|██████████| 14/14 [00:58<00:00,  4.20s/it]\n",
            "Evaluating (11 / 200 EPOCHS) (loss=0.97287) (dice score=0.16608): 100%|██████████| 8/8 [00:08<00:00,  1.03s/it]\n"
          ]
        },
        {
          "output_type": "stream",
          "name": "stdout",
          "text": [
            "Best record! [11] Test Loss: 0.966099, Dice score: 0.161637\n",
            "saved model\n"
          ]
        },
        {
          "output_type": "stream",
          "name": "stderr",
          "text": [
            "Training (12 / 200 EPOCHS) (loss=0.97909) (dice score=0.16606): 100%|██████████| 14/14 [00:58<00:00,  4.17s/it]\n",
            "Evaluating (12 / 200 EPOCHS) (loss=0.97233) (dice score=0.17057): 100%|██████████| 8/8 [00:08<00:00,  1.05s/it]\n",
            "Training (13 / 200 EPOCHS) (loss=0.97398) (dice score=0.18323): 100%|██████████| 14/14 [00:57<00:00,  4.12s/it]\n",
            "Evaluating (13 / 200 EPOCHS) (loss=0.97157) (dice score=0.19188): 100%|██████████| 8/8 [00:08<00:00,  1.04s/it]\n"
          ]
        },
        {
          "output_type": "stream",
          "name": "stdout",
          "text": [
            "Best record! [13] Test Loss: 0.964567, Dice score: 0.186100\n",
            "saved model\n"
          ]
        },
        {
          "output_type": "stream",
          "name": "stderr",
          "text": [
            "Training (14 / 200 EPOCHS) (loss=0.96975) (dice score=0.20930): 100%|██████████| 14/14 [00:58<00:00,  4.19s/it]\n",
            "Evaluating (14 / 200 EPOCHS) (loss=0.97134) (dice score=0.21825): 100%|██████████| 8/8 [00:08<00:00,  1.05s/it]\n"
          ]
        },
        {
          "output_type": "stream",
          "name": "stdout",
          "text": [
            "Best record! [14] Test Loss: 0.963711, Dice score: 0.212112\n",
            "saved model\n"
          ]
        },
        {
          "output_type": "stream",
          "name": "stderr",
          "text": [
            "Training (15 / 200 EPOCHS) (loss=0.95946) (dice score=0.21638): 100%|██████████| 14/14 [00:57<00:00,  4.13s/it]\n",
            "Evaluating (15 / 200 EPOCHS) (loss=0.97162) (dice score=0.21857): 100%|██████████| 8/8 [00:08<00:00,  1.05s/it]\n"
          ]
        },
        {
          "output_type": "stream",
          "name": "stdout",
          "text": [
            "Best record! [15] Test Loss: 0.963492, Dice score: 0.215342\n",
            "saved model\n"
          ]
        },
        {
          "output_type": "stream",
          "name": "stderr",
          "text": [
            "Training (16 / 200 EPOCHS) (loss=0.96918) (dice score=0.19713): 100%|██████████| 14/14 [00:58<00:00,  4.18s/it]\n",
            "Evaluating (16 / 200 EPOCHS) (loss=0.97081) (dice score=0.19207): 100%|██████████| 8/8 [00:08<00:00,  1.00s/it]\n",
            "Training (17 / 200 EPOCHS) (loss=0.97843) (dice score=0.18732): 100%|██████████| 14/14 [00:57<00:00,  4.14s/it]\n",
            "Evaluating (17 / 200 EPOCHS) (loss=0.97017) (dice score=0.19172): 100%|██████████| 8/8 [00:08<00:00,  1.06s/it]\n"
          ]
        },
        {
          "output_type": "stream",
          "name": "stdout",
          "text": [
            "Best record! [17] Test Loss: 0.962518, Dice score: 0.187269\n",
            "saved model\n"
          ]
        },
        {
          "output_type": "stream",
          "name": "stderr",
          "text": [
            "Training (18 / 200 EPOCHS) (loss=0.97578) (dice score=0.18554): 100%|██████████| 14/14 [00:58<00:00,  4.14s/it]\n",
            "Evaluating (18 / 200 EPOCHS) (loss=0.96985) (dice score=0.18636): 100%|██████████| 8/8 [00:08<00:00,  1.04s/it]\n"
          ]
        },
        {
          "output_type": "stream",
          "name": "stdout",
          "text": [
            "Best record! [18] Test Loss: 0.962241, Dice score: 0.182868\n",
            "saved model\n"
          ]
        },
        {
          "output_type": "stream",
          "name": "stderr",
          "text": [
            "Training (19 / 200 EPOCHS) (loss=0.97010) (dice score=0.18759): 100%|██████████| 14/14 [00:58<00:00,  4.17s/it]\n",
            "Evaluating (19 / 200 EPOCHS) (loss=0.96966) (dice score=0.19391): 100%|██████████| 8/8 [00:08<00:00,  1.05s/it]\n"
          ]
        },
        {
          "output_type": "stream",
          "name": "stdout",
          "text": [
            "Best record! [19] Test Loss: 0.961177, Dice score: 0.188288\n",
            "saved model\n"
          ]
        },
        {
          "output_type": "stream",
          "name": "stderr",
          "text": [
            "Training (20 / 200 EPOCHS) (loss=0.97862) (dice score=0.21976): 100%|██████████| 14/14 [00:57<00:00,  4.10s/it]\n",
            "Evaluating (20 / 200 EPOCHS) (loss=0.96897) (dice score=0.21431): 100%|██████████| 8/8 [00:08<00:00,  1.07s/it]\n"
          ]
        },
        {
          "output_type": "stream",
          "name": "stdout",
          "text": [
            "Best record! [20] Test Loss: 0.960652, Dice score: 0.213559\n",
            "saved model\n"
          ]
        },
        {
          "output_type": "stream",
          "name": "stderr",
          "text": [
            "Training (21 / 200 EPOCHS) (loss=0.98087) (dice score=0.21878): 100%|██████████| 14/14 [00:56<00:00,  4.02s/it]\n",
            "Evaluating (21 / 200 EPOCHS) (loss=0.96694) (dice score=0.23354): 100%|██████████| 8/8 [00:08<00:00,  1.01s/it]\n"
          ]
        },
        {
          "output_type": "stream",
          "name": "stdout",
          "text": [
            "Best record! [21] Test Loss: 0.960036, Dice score: 0.225076\n",
            "saved model\n"
          ]
        },
        {
          "output_type": "stream",
          "name": "stderr",
          "text": [
            "Training (22 / 200 EPOCHS) (loss=0.98703) (dice score=0.26605): 100%|██████████| 14/14 [00:56<00:00,  4.04s/it]\n",
            "Evaluating (22 / 200 EPOCHS) (loss=0.96642) (dice score=0.27654): 100%|██████████| 8/8 [00:08<00:00,  1.08s/it]\n"
          ]
        },
        {
          "output_type": "stream",
          "name": "stdout",
          "text": [
            "Best record! [22] Test Loss: 0.958964, Dice score: 0.269314\n",
            "saved model\n"
          ]
        },
        {
          "output_type": "stream",
          "name": "stderr",
          "text": [
            "Training (23 / 200 EPOCHS) (loss=0.98493) (dice score=0.30024): 100%|██████████| 14/14 [00:56<00:00,  4.02s/it]\n",
            "Evaluating (23 / 200 EPOCHS) (loss=0.96511) (dice score=0.29158): 100%|██████████| 8/8 [00:08<00:00,  1.05s/it]\n"
          ]
        },
        {
          "output_type": "stream",
          "name": "stdout",
          "text": [
            "Best record! [23] Test Loss: 0.958217, Dice score: 0.291321\n",
            "saved model\n"
          ]
        },
        {
          "output_type": "stream",
          "name": "stderr",
          "text": [
            "Training (24 / 200 EPOCHS) (loss=0.98020) (dice score=0.28982): 100%|██████████| 14/14 [00:55<00:00,  3.98s/it]\n",
            "Evaluating (24 / 200 EPOCHS) (loss=0.96551) (dice score=0.30210): 100%|██████████| 8/8 [00:08<00:00,  1.05s/it]\n",
            "Training (25 / 200 EPOCHS) (loss=0.95823) (dice score=0.32617): 100%|██████████| 14/14 [00:56<00:00,  4.07s/it]\n",
            "Evaluating (25 / 200 EPOCHS) (loss=0.96383) (dice score=0.30868): 100%|██████████| 8/8 [00:08<00:00,  1.00s/it]\n",
            "Training (26 / 200 EPOCHS) (loss=0.95745) (dice score=0.25170): 100%|██████████| 14/14 [00:56<00:00,  4.04s/it]\n",
            "Evaluating (26 / 200 EPOCHS) (loss=0.96575) (dice score=0.24338): 100%|██████████| 8/8 [00:08<00:00,  1.02s/it]\n"
          ]
        },
        {
          "output_type": "stream",
          "name": "stdout",
          "text": [
            "Best record! [26] Test Loss: 0.957614, Dice score: 0.244183\n",
            "saved model\n"
          ]
        },
        {
          "output_type": "stream",
          "name": "stderr",
          "text": [
            "Training (27 / 200 EPOCHS) (loss=0.95240) (dice score=0.22094): 100%|██████████| 14/14 [00:56<00:00,  4.07s/it]\n",
            "Evaluating (27 / 200 EPOCHS) (loss=0.96404) (dice score=0.23827): 100%|██████████| 8/8 [00:08<00:00,  1.07s/it]\n"
          ]
        },
        {
          "output_type": "stream",
          "name": "stdout",
          "text": [
            "Best record! [27] Test Loss: 0.956184, Dice score: 0.228108\n",
            "saved model\n"
          ]
        },
        {
          "output_type": "stream",
          "name": "stderr",
          "text": [
            "Training (28 / 200 EPOCHS) (loss=0.93284) (dice score=0.29822): 100%|██████████| 14/14 [00:56<00:00,  4.05s/it]\n",
            "Evaluating (28 / 200 EPOCHS) (loss=0.96191) (dice score=0.30498): 100%|██████████| 8/8 [00:08<00:00,  1.05s/it]\n"
          ]
        },
        {
          "output_type": "stream",
          "name": "stdout",
          "text": [
            "Best record! [28] Test Loss: 0.955717, Dice score: 0.299061\n",
            "saved model\n"
          ]
        },
        {
          "output_type": "stream",
          "name": "stderr",
          "text": [
            "Training (29 / 200 EPOCHS) (loss=0.98146) (dice score=0.29434): 100%|██████████| 14/14 [00:56<00:00,  4.05s/it]\n",
            "Evaluating (29 / 200 EPOCHS) (loss=0.96082) (dice score=0.29492): 100%|██████████| 8/8 [00:07<00:00,  1.01it/s]\n"
          ]
        },
        {
          "output_type": "stream",
          "name": "stdout",
          "text": [
            "Best record! [29] Test Loss: 0.955705, Dice score: 0.291347\n",
            "saved model\n"
          ]
        },
        {
          "output_type": "stream",
          "name": "stderr",
          "text": [
            "Training (30 / 200 EPOCHS) (loss=0.96601) (dice score=0.29534): 100%|██████████| 14/14 [00:57<00:00,  4.12s/it]\n",
            "Evaluating (30 / 200 EPOCHS) (loss=0.96018) (dice score=0.30026): 100%|██████████| 8/8 [00:08<00:00,  1.08s/it]\n"
          ]
        },
        {
          "output_type": "stream",
          "name": "stdout",
          "text": [
            "Best record! [30] Test Loss: 0.955629, Dice score: 0.294289\n",
            "saved model\n"
          ]
        },
        {
          "output_type": "stream",
          "name": "stderr",
          "text": [
            "Training (31 / 200 EPOCHS) (loss=0.93073) (dice score=0.30946): 100%|██████████| 14/14 [00:56<00:00,  4.05s/it]\n",
            "Evaluating (31 / 200 EPOCHS) (loss=0.96059) (dice score=0.31195): 100%|██████████| 8/8 [00:08<00:00,  1.07s/it]\n"
          ]
        },
        {
          "output_type": "stream",
          "name": "stdout",
          "text": [
            "Best record! [31] Test Loss: 0.952690, Dice score: 0.307931\n",
            "saved model\n"
          ]
        },
        {
          "output_type": "stream",
          "name": "stderr",
          "text": [
            "Training (32 / 200 EPOCHS) (loss=0.96717) (dice score=0.31659): 100%|██████████| 14/14 [00:57<00:00,  4.11s/it]\n",
            "Evaluating (32 / 200 EPOCHS) (loss=0.96083) (dice score=0.31524): 100%|██████████| 8/8 [00:08<00:00,  1.01s/it]\n",
            "Training (33 / 200 EPOCHS) (loss=0.96844) (dice score=0.33379): 100%|██████████| 14/14 [00:56<00:00,  4.07s/it]\n",
            "Evaluating (33 / 200 EPOCHS) (loss=0.95909) (dice score=0.33572): 100%|██████████| 8/8 [00:08<00:00,  1.07s/it]\n"
          ]
        },
        {
          "output_type": "stream",
          "name": "stdout",
          "text": [
            "Best record! [33] Test Loss: 0.951229, Dice score: 0.332330\n",
            "saved model\n"
          ]
        },
        {
          "output_type": "stream",
          "name": "stderr",
          "text": [
            "Training (34 / 200 EPOCHS) (loss=0.96971) (dice score=0.32952): 100%|██████████| 14/14 [00:57<00:00,  4.09s/it]\n",
            "Evaluating (34 / 200 EPOCHS) (loss=0.95785) (dice score=0.32966): 100%|██████████| 8/8 [00:08<00:00,  1.07s/it]\n",
            "Training (35 / 200 EPOCHS) (loss=0.96202) (dice score=0.38987): 100%|██████████| 14/14 [00:56<00:00,  4.06s/it]\n",
            "Evaluating (35 / 200 EPOCHS) (loss=0.95773) (dice score=0.37551): 100%|██████████| 8/8 [00:08<00:00,  1.00s/it]\n"
          ]
        },
        {
          "output_type": "stream",
          "name": "stdout",
          "text": [
            "Best record! [35] Test Loss: 0.950169, Dice score: 0.377065\n",
            "saved model\n"
          ]
        },
        {
          "output_type": "stream",
          "name": "stderr",
          "text": [
            "Training (36 / 200 EPOCHS) (loss=0.92320) (dice score=0.39898): 100%|██████████| 14/14 [00:57<00:00,  4.09s/it]\n",
            "Evaluating (36 / 200 EPOCHS) (loss=0.95618) (dice score=0.39388): 100%|██████████| 8/8 [00:08<00:00,  1.04s/it]\n",
            "Training (37 / 200 EPOCHS) (loss=0.93434) (dice score=0.42181): 100%|██████████| 14/14 [00:57<00:00,  4.08s/it]\n",
            "Evaluating (37 / 200 EPOCHS) (loss=0.95433) (dice score=0.41094): 100%|██████████| 8/8 [00:08<00:00,  1.05s/it]\n"
          ]
        },
        {
          "output_type": "stream",
          "name": "stdout",
          "text": [
            "Best record! [37] Test Loss: 0.947397, Dice score: 0.411490\n",
            "saved model\n"
          ]
        },
        {
          "output_type": "stream",
          "name": "stderr",
          "text": [
            "Training (38 / 200 EPOCHS) (loss=0.95822) (dice score=0.41357): 100%|██████████| 14/14 [00:56<00:00,  4.03s/it]\n",
            "Evaluating (38 / 200 EPOCHS) (loss=0.95445) (dice score=0.40171): 100%|██████████| 8/8 [00:08<00:00,  1.05s/it]\n",
            "Training (39 / 200 EPOCHS) (loss=0.95596) (dice score=0.42217): 100%|██████████| 14/14 [00:56<00:00,  4.06s/it]\n",
            "Evaluating (39 / 200 EPOCHS) (loss=0.95385) (dice score=0.41446): 100%|██████████| 8/8 [00:07<00:00,  1.01it/s]\n"
          ]
        },
        {
          "output_type": "stream",
          "name": "stdout",
          "text": [
            "Best record! [39] Test Loss: 0.944924, Dice score: 0.413607\n",
            "saved model\n"
          ]
        },
        {
          "output_type": "stream",
          "name": "stderr",
          "text": [
            "Training (40 / 200 EPOCHS) (loss=0.90220) (dice score=0.42076): 100%|██████████| 14/14 [00:57<00:00,  4.09s/it]\n",
            "Evaluating (40 / 200 EPOCHS) (loss=0.95324) (dice score=0.40944): 100%|██████████| 8/8 [00:08<00:00,  1.04s/it]\n"
          ]
        },
        {
          "output_type": "stream",
          "name": "stdout",
          "text": [
            "Best record! [40] Test Loss: 0.943533, Dice score: 0.410862\n",
            "saved model\n"
          ]
        },
        {
          "output_type": "stream",
          "name": "stderr",
          "text": [
            "Training (41 / 200 EPOCHS) (loss=0.97023) (dice score=0.36720): 100%|██████████| 14/14 [00:57<00:00,  4.07s/it]\n",
            "Evaluating (41 / 200 EPOCHS) (loss=0.95136) (dice score=0.36566): 100%|██████████| 8/8 [00:08<00:00,  1.06s/it]\n"
          ]
        },
        {
          "output_type": "stream",
          "name": "stdout",
          "text": [
            "Best record! [41] Test Loss: 0.942874, Dice score: 0.362842\n",
            "saved model\n"
          ]
        },
        {
          "output_type": "stream",
          "name": "stderr",
          "text": [
            "Training (42 / 200 EPOCHS) (loss=0.94290) (dice score=0.33194): 100%|██████████| 14/14 [00:57<00:00,  4.08s/it]\n",
            "Evaluating (42 / 200 EPOCHS) (loss=0.95176) (dice score=0.32066): 100%|██████████| 8/8 [00:08<00:00,  1.05s/it]\n",
            "Training (43 / 200 EPOCHS) (loss=0.92936) (dice score=0.33163): 100%|██████████| 14/14 [00:58<00:00,  4.15s/it]\n",
            "Evaluating (43 / 200 EPOCHS) (loss=0.94740) (dice score=0.34136): 100%|██████████| 8/8 [00:07<00:00,  1.01it/s]\n"
          ]
        },
        {
          "output_type": "stream",
          "name": "stdout",
          "text": [
            "Best record! [43] Test Loss: 0.939219, Dice score: 0.333773\n",
            "saved model\n"
          ]
        },
        {
          "output_type": "stream",
          "name": "stderr",
          "text": [
            "Training (44 / 200 EPOCHS) (loss=0.93600) (dice score=0.38191): 100%|██████████| 14/14 [00:57<00:00,  4.12s/it]\n",
            "Evaluating (44 / 200 EPOCHS) (loss=0.94651) (dice score=0.37498): 100%|██████████| 8/8 [00:08<00:00,  1.04s/it]\n",
            "Training (45 / 200 EPOCHS) (loss=0.88073) (dice score=0.37139): 100%|██████████| 14/14 [00:56<00:00,  4.05s/it]\n",
            "Evaluating (45 / 200 EPOCHS) (loss=0.94487) (dice score=0.37197): 100%|██████████| 8/8 [00:08<00:00,  1.04s/it]\n",
            "Training (46 / 200 EPOCHS) (loss=0.96269) (dice score=0.37470): 100%|██████████| 14/14 [00:56<00:00,  4.03s/it]\n",
            "Evaluating (46 / 200 EPOCHS) (loss=0.94384) (dice score=0.37031): 100%|██████████| 8/8 [00:08<00:00,  1.03s/it]\n"
          ]
        },
        {
          "output_type": "stream",
          "name": "stdout",
          "text": [
            "Best record! [46] Test Loss: 0.936104, Dice score: 0.367990\n",
            "saved model\n"
          ]
        },
        {
          "output_type": "stream",
          "name": "stderr",
          "text": [
            "Training (47 / 200 EPOCHS) (loss=0.90051) (dice score=0.40631): 100%|██████████| 14/14 [00:56<00:00,  4.06s/it]\n",
            "Evaluating (47 / 200 EPOCHS) (loss=0.94329) (dice score=0.39473): 100%|██████████| 8/8 [00:08<00:00,  1.03s/it]\n"
          ]
        },
        {
          "output_type": "stream",
          "name": "stdout",
          "text": [
            "Best record! [47] Test Loss: 0.933760, Dice score: 0.395957\n",
            "saved model\n"
          ]
        },
        {
          "output_type": "stream",
          "name": "stderr",
          "text": [
            "Training (48 / 200 EPOCHS) (loss=0.94002) (dice score=0.41528): 100%|██████████| 14/14 [00:57<00:00,  4.09s/it]\n",
            "Evaluating (48 / 200 EPOCHS) (loss=0.94282) (dice score=0.41189): 100%|██████████| 8/8 [00:08<00:00,  1.07s/it]\n",
            "Training (49 / 200 EPOCHS) (loss=0.96030) (dice score=0.43393): 100%|██████████| 14/14 [00:56<00:00,  4.05s/it]\n",
            "Evaluating (49 / 200 EPOCHS) (loss=0.94109) (dice score=0.42350): 100%|██████████| 8/8 [00:08<00:00,  1.07s/it]\n"
          ]
        },
        {
          "output_type": "stream",
          "name": "stdout",
          "text": [
            "Best record! [49] Test Loss: 0.931029, Dice score: 0.423334\n",
            "saved model\n"
          ]
        },
        {
          "output_type": "stream",
          "name": "stderr",
          "text": [
            "Training (50 / 200 EPOCHS) (loss=0.96100) (dice score=0.40922): 100%|██████████| 14/14 [00:58<00:00,  4.21s/it]\n",
            "Evaluating (50 / 200 EPOCHS) (loss=0.94000) (dice score=0.40674): 100%|██████████| 8/8 [00:08<00:00,  1.02s/it]\n",
            "Training (51 / 200 EPOCHS) (loss=0.95523) (dice score=0.47404): 100%|██████████| 14/14 [00:57<00:00,  4.14s/it]\n",
            "Evaluating (51 / 200 EPOCHS) (loss=0.93798) (dice score=0.47099): 100%|██████████| 8/8 [00:08<00:00,  1.06s/it]\n"
          ]
        },
        {
          "output_type": "stream",
          "name": "stdout",
          "text": [
            "Best record! [51] Test Loss: 0.929214, Dice score: 0.467855\n",
            "saved model\n"
          ]
        },
        {
          "output_type": "stream",
          "name": "stderr",
          "text": [
            "Training (52 / 200 EPOCHS) (loss=0.88396) (dice score=0.48978): 100%|██████████| 14/14 [00:57<00:00,  4.12s/it]\n",
            "Evaluating (52 / 200 EPOCHS) (loss=0.93567) (dice score=0.47502): 100%|██████████| 8/8 [00:08<00:00,  1.03s/it]\n",
            "Training (53 / 200 EPOCHS) (loss=0.94386) (dice score=0.49977): 100%|██████████| 14/14 [00:57<00:00,  4.09s/it]\n",
            "Evaluating (53 / 200 EPOCHS) (loss=0.93241) (dice score=0.47496): 100%|██████████| 8/8 [00:07<00:00,  1.02it/s]\n",
            "Training (54 / 200 EPOCHS) (loss=0.93864) (dice score=0.46016): 100%|██████████| 14/14 [00:56<00:00,  4.05s/it]\n",
            "Evaluating (54 / 200 EPOCHS) (loss=0.93137) (dice score=0.45837): 100%|██████████| 8/8 [00:08<00:00,  1.04s/it]\n"
          ]
        },
        {
          "output_type": "stream",
          "name": "stdout",
          "text": [
            "Best record! [54] Test Loss: 0.922689, Dice score: 0.455313\n",
            "saved model\n"
          ]
        },
        {
          "output_type": "stream",
          "name": "stderr",
          "text": [
            "Training (55 / 200 EPOCHS) (loss=0.94448) (dice score=0.50541): 100%|██████████| 14/14 [00:58<00:00,  4.15s/it]\n",
            "Evaluating (55 / 200 EPOCHS) (loss=0.93064) (dice score=0.49197): 100%|██████████| 8/8 [00:08<00:00,  1.05s/it]\n"
          ]
        },
        {
          "output_type": "stream",
          "name": "stdout",
          "text": [
            "Best record! [55] Test Loss: 0.921205, Dice score: 0.494087\n",
            "saved model\n"
          ]
        },
        {
          "output_type": "stream",
          "name": "stderr",
          "text": [
            "Training (56 / 200 EPOCHS) (loss=0.95597) (dice score=0.52600): 100%|██████████| 14/14 [00:58<00:00,  4.19s/it]\n",
            "Evaluating (56 / 200 EPOCHS) (loss=0.92850) (dice score=0.51187): 100%|██████████| 8/8 [00:07<00:00,  1.00it/s]\n",
            "Training (57 / 200 EPOCHS) (loss=0.85596) (dice score=0.52187): 100%|██████████| 14/14 [00:57<00:00,  4.13s/it]\n",
            "Evaluating (57 / 200 EPOCHS) (loss=0.92931) (dice score=0.51003): 100%|██████████| 8/8 [00:08<00:00,  1.06s/it]\n"
          ]
        },
        {
          "output_type": "stream",
          "name": "stdout",
          "text": [
            "Best record! [57] Test Loss: 0.920979, Dice score: 0.509635\n",
            "saved model\n"
          ]
        },
        {
          "output_type": "stream",
          "name": "stderr",
          "text": [
            "Training (58 / 200 EPOCHS) (loss=0.95567) (dice score=0.51078): 100%|██████████| 14/14 [00:57<00:00,  4.13s/it]\n",
            "Evaluating (58 / 200 EPOCHS) (loss=0.92655) (dice score=0.50139): 100%|██████████| 8/8 [00:08<00:00,  1.07s/it]\n"
          ]
        },
        {
          "output_type": "stream",
          "name": "stdout",
          "text": [
            "Best record! [58] Test Loss: 0.917508, Dice score: 0.500596\n",
            "saved model\n"
          ]
        },
        {
          "output_type": "stream",
          "name": "stderr",
          "text": [
            "Training (59 / 200 EPOCHS) (loss=0.91496) (dice score=0.51530): 100%|██████████| 14/14 [00:58<00:00,  4.15s/it]\n",
            "Evaluating (59 / 200 EPOCHS) (loss=0.92740) (dice score=0.48006): 100%|██████████| 8/8 [00:08<00:00,  1.00s/it]\n"
          ]
        },
        {
          "output_type": "stream",
          "name": "stdout",
          "text": [
            "Best record! [59] Test Loss: 0.917011, Dice score: 0.490061\n",
            "saved model\n"
          ]
        },
        {
          "output_type": "stream",
          "name": "stderr",
          "text": [
            "Training (60 / 200 EPOCHS) (loss=0.89357) (dice score=0.43828): 100%|██████████| 14/14 [00:58<00:00,  4.16s/it]\n",
            "Evaluating (60 / 200 EPOCHS) (loss=0.92324) (dice score=0.42669): 100%|██████████| 8/8 [00:08<00:00,  1.07s/it]\n"
          ]
        },
        {
          "output_type": "stream",
          "name": "stdout",
          "text": [
            "Best record! [60] Test Loss: 0.915907, Dice score: 0.425895\n",
            "saved model\n"
          ]
        },
        {
          "output_type": "stream",
          "name": "stderr",
          "text": [
            "Training (61 / 200 EPOCHS) (loss=0.84267) (dice score=0.49868): 100%|██████████| 14/14 [00:57<00:00,  4.11s/it]\n",
            "Evaluating (61 / 200 EPOCHS) (loss=0.92275) (dice score=0.48835): 100%|██████████| 8/8 [00:08<00:00,  1.03s/it]\n",
            "Training (62 / 200 EPOCHS) (loss=0.90183) (dice score=0.46216): 100%|██████████| 14/14 [00:57<00:00,  4.13s/it]\n",
            "Evaluating (62 / 200 EPOCHS) (loss=0.92227) (dice score=0.45345): 100%|██████████| 8/8 [00:08<00:00,  1.01s/it]\n"
          ]
        },
        {
          "output_type": "stream",
          "name": "stdout",
          "text": [
            "Best record! [62] Test Loss: 0.914319, Dice score: 0.452808\n",
            "saved model\n"
          ]
        },
        {
          "output_type": "stream",
          "name": "stderr",
          "text": [
            "Training (63 / 200 EPOCHS) (loss=0.92468) (dice score=0.50521): 100%|██████████| 14/14 [00:57<00:00,  4.11s/it]\n",
            "Evaluating (63 / 200 EPOCHS) (loss=0.91864) (dice score=0.49905): 100%|██████████| 8/8 [00:08<00:00,  1.06s/it]\n",
            "Training (64 / 200 EPOCHS) (loss=0.94726) (dice score=0.48889): 100%|██████████| 14/14 [00:57<00:00,  4.10s/it]\n",
            "Evaluating (64 / 200 EPOCHS) (loss=0.91413) (dice score=0.47371): 100%|██████████| 8/8 [00:08<00:00,  1.04s/it]\n"
          ]
        },
        {
          "output_type": "stream",
          "name": "stdout",
          "text": [
            "Best record! [64] Test Loss: 0.910157, Dice score: 0.474604\n",
            "saved model\n"
          ]
        },
        {
          "output_type": "stream",
          "name": "stderr",
          "text": [
            "Training (65 / 200 EPOCHS) (loss=0.95157) (dice score=0.52008): 100%|██████████| 14/14 [00:58<00:00,  4.17s/it]\n",
            "Evaluating (65 / 200 EPOCHS) (loss=0.91639) (dice score=0.49560): 100%|██████████| 8/8 [00:08<00:00,  1.02s/it]\n"
          ]
        },
        {
          "output_type": "stream",
          "name": "stdout",
          "text": [
            "Best record! [65] Test Loss: 0.907575, Dice score: 0.500429\n",
            "saved model\n"
          ]
        },
        {
          "output_type": "stream",
          "name": "stderr",
          "text": [
            "Training (66 / 200 EPOCHS) (loss=0.91836) (dice score=0.50162): 100%|██████████| 14/14 [00:57<00:00,  4.14s/it]\n",
            "Evaluating (66 / 200 EPOCHS) (loss=0.91169) (dice score=0.48278): 100%|██████████| 8/8 [00:08<00:00,  1.05s/it]\n",
            "Training (67 / 200 EPOCHS) (loss=0.90567) (dice score=0.49946): 100%|██████████| 14/14 [00:58<00:00,  4.15s/it]\n",
            "Evaluating (67 / 200 EPOCHS) (loss=0.90730) (dice score=0.47933): 100%|██████████| 8/8 [00:08<00:00,  1.02s/it]\n"
          ]
        },
        {
          "output_type": "stream",
          "name": "stdout",
          "text": [
            "Best record! [67] Test Loss: 0.900279, Dice score: 0.482343\n",
            "saved model\n"
          ]
        },
        {
          "output_type": "stream",
          "name": "stderr",
          "text": [
            "Training (68 / 200 EPOCHS) (loss=0.89018) (dice score=0.50371): 100%|██████████| 14/14 [00:57<00:00,  4.10s/it]\n",
            "Evaluating (68 / 200 EPOCHS) (loss=0.91149) (dice score=0.48376): 100%|██████████| 8/8 [00:08<00:00,  1.00s/it]\n",
            "Training (69 / 200 EPOCHS) (loss=0.94020) (dice score=0.50368): 100%|██████████| 14/14 [00:57<00:00,  4.11s/it]\n",
            "Evaluating (69 / 200 EPOCHS) (loss=0.90489) (dice score=0.49448): 100%|██████████| 8/8 [00:08<00:00,  1.06s/it]\n",
            "Training (70 / 200 EPOCHS) (loss=0.87613) (dice score=0.57152): 100%|██████████| 14/14 [00:57<00:00,  4.10s/it]\n",
            "Evaluating (70 / 200 EPOCHS) (loss=0.90366) (dice score=0.54374): 100%|██████████| 8/8 [00:08<00:00,  1.07s/it]\n"
          ]
        },
        {
          "output_type": "stream",
          "name": "stdout",
          "text": [
            "Best record! [70] Test Loss: 0.899907, Dice score: 0.548401\n",
            "saved model\n"
          ]
        },
        {
          "output_type": "stream",
          "name": "stderr",
          "text": [
            "Training (71 / 200 EPOCHS) (loss=0.86660) (dice score=0.57782): 100%|██████████| 14/14 [00:58<00:00,  4.20s/it]\n",
            "Evaluating (71 / 200 EPOCHS) (loss=0.91037) (dice score=0.54310): 100%|██████████| 8/8 [00:08<00:00,  1.04s/it]\n"
          ]
        },
        {
          "output_type": "stream",
          "name": "stdout",
          "text": [
            "Best record! [71] Test Loss: 0.897279, Dice score: 0.552151\n",
            "saved model\n"
          ]
        },
        {
          "output_type": "stream",
          "name": "stderr",
          "text": [
            "Training (72 / 200 EPOCHS) (loss=0.94942) (dice score=0.55739): 100%|██████████| 14/14 [00:57<00:00,  4.10s/it]\n",
            "Evaluating (72 / 200 EPOCHS) (loss=0.90569) (dice score=0.53536): 100%|██████████| 8/8 [00:08<00:00,  1.12s/it]\n"
          ]
        },
        {
          "output_type": "stream",
          "name": "stdout",
          "text": [
            "Best record! [72] Test Loss: 0.892263, Dice score: 0.539468\n",
            "saved model\n"
          ]
        },
        {
          "output_type": "stream",
          "name": "stderr",
          "text": [
            "Training (73 / 200 EPOCHS) (loss=0.90209) (dice score=0.49517): 100%|██████████| 14/14 [00:57<00:00,  4.12s/it]\n",
            "Evaluating (73 / 200 EPOCHS) (loss=0.90897) (dice score=0.47876): 100%|██████████| 8/8 [00:08<00:00,  1.01s/it]\n",
            "Training (74 / 200 EPOCHS) (loss=0.79616) (dice score=0.56349): 100%|██████████| 14/14 [00:57<00:00,  4.10s/it]\n",
            "Evaluating (74 / 200 EPOCHS) (loss=0.89400) (dice score=0.53408): 100%|██████████| 8/8 [00:08<00:00,  1.01s/it]\n"
          ]
        },
        {
          "output_type": "stream",
          "name": "stdout",
          "text": [
            "Best record! [74] Test Loss: 0.886282, Dice score: 0.540572\n",
            "saved model\n"
          ]
        },
        {
          "output_type": "stream",
          "name": "stderr",
          "text": [
            "Training (75 / 200 EPOCHS) (loss=0.86385) (dice score=0.53033): 100%|██████████| 14/14 [00:58<00:00,  4.21s/it]\n",
            "Evaluating (75 / 200 EPOCHS) (loss=0.90163) (dice score=0.50761): 100%|██████████| 8/8 [00:08<00:00,  1.07s/it]\n"
          ]
        },
        {
          "output_type": "stream",
          "name": "stdout",
          "text": [
            "Best record! [75] Test Loss: 0.885136, Dice score: 0.512189\n",
            "saved model\n"
          ]
        },
        {
          "output_type": "stream",
          "name": "stderr",
          "text": [
            "Training (76 / 200 EPOCHS) (loss=0.77234) (dice score=0.55235): 100%|██████████| 14/14 [00:59<00:00,  4.22s/it]\n",
            "Evaluating (76 / 200 EPOCHS) (loss=0.88836) (dice score=0.53699): 100%|██████████| 8/8 [00:07<00:00,  1.01it/s]\n"
          ]
        },
        {
          "output_type": "stream",
          "name": "stdout",
          "text": [
            "Best record! [76] Test Loss: 0.883229, Dice score: 0.538760\n",
            "saved model\n"
          ]
        },
        {
          "output_type": "stream",
          "name": "stderr",
          "text": [
            "Training (77 / 200 EPOCHS) (loss=0.89402) (dice score=0.59233): 100%|██████████| 14/14 [00:58<00:00,  4.15s/it]\n",
            "Evaluating (77 / 200 EPOCHS) (loss=0.88596) (dice score=0.56558): 100%|██████████| 8/8 [00:08<00:00,  1.06s/it]\n",
            "Training (78 / 200 EPOCHS) (loss=0.79683) (dice score=0.61869): 100%|██████████| 14/14 [00:57<00:00,  4.13s/it]\n",
            "Evaluating (78 / 200 EPOCHS) (loss=0.87969) (dice score=0.58689): 100%|██████████| 8/8 [00:08<00:00,  1.09s/it]\n"
          ]
        },
        {
          "output_type": "stream",
          "name": "stdout",
          "text": [
            "Best record! [78] Test Loss: 0.876561, Dice score: 0.594668\n",
            "saved model\n"
          ]
        },
        {
          "output_type": "stream",
          "name": "stderr",
          "text": [
            "Training (79 / 200 EPOCHS) (loss=0.91076) (dice score=0.63098): 100%|██████████| 14/14 [00:58<00:00,  4.18s/it]\n",
            "Evaluating (79 / 200 EPOCHS) (loss=0.88214) (dice score=0.60574): 100%|██████████| 8/8 [00:08<00:00,  1.06s/it]\n",
            "Training (80 / 200 EPOCHS) (loss=0.81877) (dice score=0.61672): 100%|██████████| 14/14 [00:58<00:00,  4.14s/it]\n",
            "Evaluating (80 / 200 EPOCHS) (loss=0.87962) (dice score=0.58316): 100%|██████████| 8/8 [00:08<00:00,  1.06s/it]\n",
            "Training (81 / 200 EPOCHS) (loss=0.87385) (dice score=0.56847): 100%|██████████| 14/14 [00:57<00:00,  4.14s/it]\n",
            "Evaluating (81 / 200 EPOCHS) (loss=0.88092) (dice score=0.54543): 100%|██████████| 8/8 [00:08<00:00,  1.06s/it]\n"
          ]
        },
        {
          "output_type": "stream",
          "name": "stdout",
          "text": [
            "Best record! [81] Test Loss: 0.875487, Dice score: 0.548169\n",
            "saved model\n"
          ]
        },
        {
          "output_type": "stream",
          "name": "stderr",
          "text": [
            "Training (82 / 200 EPOCHS) (loss=0.83920) (dice score=0.56228): 100%|██████████| 14/14 [00:58<00:00,  4.21s/it]\n",
            "Evaluating (82 / 200 EPOCHS) (loss=0.88416) (dice score=0.53248): 100%|██████████| 8/8 [00:08<00:00,  1.08s/it]\n",
            "Training (83 / 200 EPOCHS) (loss=0.82102) (dice score=0.57174): 100%|██████████| 14/14 [00:57<00:00,  4.13s/it]\n",
            "Evaluating (83 / 200 EPOCHS) (loss=0.87062) (dice score=0.55252): 100%|██████████| 8/8 [00:08<00:00,  1.07s/it]\n"
          ]
        },
        {
          "output_type": "stream",
          "name": "stdout",
          "text": [
            "Best record! [83] Test Loss: 0.870447, Dice score: 0.553661\n",
            "saved model\n"
          ]
        },
        {
          "output_type": "stream",
          "name": "stderr",
          "text": [
            "Training (84 / 200 EPOCHS) (loss=0.82013) (dice score=0.58103): 100%|██████████| 14/14 [00:59<00:00,  4.26s/it]\n",
            "Evaluating (84 / 200 EPOCHS) (loss=0.86405) (dice score=0.56066): 100%|██████████| 8/8 [00:08<00:00,  1.02s/it]\n"
          ]
        },
        {
          "output_type": "stream",
          "name": "stdout",
          "text": [
            "Best record! [84] Test Loss: 0.869632, Dice score: 0.562697\n",
            "saved model\n"
          ]
        },
        {
          "output_type": "stream",
          "name": "stderr",
          "text": [
            "Training (85 / 200 EPOCHS) (loss=0.81165) (dice score=0.61267): 100%|██████████| 14/14 [00:59<00:00,  4.25s/it]\n",
            "Evaluating (85 / 200 EPOCHS) (loss=0.86397) (dice score=0.57846): 100%|██████████| 8/8 [00:08<00:00,  1.06s/it]\n",
            "Training (86 / 200 EPOCHS) (loss=0.84887) (dice score=0.62787): 100%|██████████| 14/14 [00:57<00:00,  4.11s/it]\n",
            "Evaluating (86 / 200 EPOCHS) (loss=0.86146) (dice score=0.60368): 100%|██████████| 8/8 [00:08<00:00,  1.04s/it]\n"
          ]
        },
        {
          "output_type": "stream",
          "name": "stdout",
          "text": [
            "Best record! [86] Test Loss: 0.859457, Dice score: 0.608044\n",
            "saved model\n"
          ]
        },
        {
          "output_type": "stream",
          "name": "stderr",
          "text": [
            "Training (87 / 200 EPOCHS) (loss=0.89120) (dice score=0.62895): 100%|██████████| 14/14 [00:57<00:00,  4.09s/it]\n",
            "Evaluating (87 / 200 EPOCHS) (loss=0.84655) (dice score=0.60415): 100%|██████████| 8/8 [00:08<00:00,  1.01s/it]\n"
          ]
        },
        {
          "output_type": "stream",
          "name": "stdout",
          "text": [
            "Best record! [87] Test Loss: 0.845816, Dice score: 0.608184\n",
            "saved model\n"
          ]
        },
        {
          "output_type": "stream",
          "name": "stderr",
          "text": [
            "Training (88 / 200 EPOCHS) (loss=0.86746) (dice score=0.66898): 100%|██████████| 14/14 [00:58<00:00,  4.18s/it]\n",
            "Evaluating (88 / 200 EPOCHS) (loss=0.85139) (dice score=0.63722): 100%|██████████| 8/8 [00:08<00:00,  1.05s/it]\n",
            "Training (89 / 200 EPOCHS) (loss=0.79976) (dice score=0.68906): 100%|██████████| 14/14 [00:57<00:00,  4.13s/it]\n",
            "Evaluating (89 / 200 EPOCHS) (loss=0.83794) (dice score=0.65254): 100%|██████████| 8/8 [00:08<00:00,  1.02s/it]\n",
            "Training (90 / 200 EPOCHS) (loss=0.87162) (dice score=0.70353): 100%|██████████| 14/14 [00:58<00:00,  4.19s/it]\n",
            "Evaluating (90 / 200 EPOCHS) (loss=0.84033) (dice score=0.66444): 100%|██████████| 8/8 [00:08<00:00,  1.04s/it]\n",
            "Training (91 / 200 EPOCHS) (loss=0.78235) (dice score=0.69102): 100%|██████████| 14/14 [00:57<00:00,  4.12s/it]\n",
            "Evaluating (91 / 200 EPOCHS) (loss=0.83558) (dice score=0.65467): 100%|██████████| 8/8 [00:08<00:00,  1.08s/it]\n"
          ]
        },
        {
          "output_type": "stream",
          "name": "stdout",
          "text": [
            "Best record! [91] Test Loss: 0.836908, Dice score: 0.663007\n",
            "saved model\n"
          ]
        },
        {
          "output_type": "stream",
          "name": "stderr",
          "text": [
            "Training (92 / 200 EPOCHS) (loss=0.83838) (dice score=0.69610): 100%|██████████| 14/14 [00:58<00:00,  4.18s/it]\n",
            "Evaluating (92 / 200 EPOCHS) (loss=0.83437) (dice score=0.65496): 100%|██████████| 8/8 [00:08<00:00,  1.01s/it]\n"
          ]
        },
        {
          "output_type": "stream",
          "name": "stdout",
          "text": [
            "Best record! [92] Test Loss: 0.827620, Dice score: 0.666663\n",
            "saved model\n"
          ]
        },
        {
          "output_type": "stream",
          "name": "stderr",
          "text": [
            "Training (93 / 200 EPOCHS) (loss=0.87184) (dice score=0.68583): 100%|██████████| 14/14 [00:58<00:00,  4.20s/it]\n",
            "Evaluating (93 / 200 EPOCHS) (loss=0.85007) (dice score=0.64436): 100%|██████████| 8/8 [00:08<00:00,  1.08s/it]\n",
            "Training (94 / 200 EPOCHS) (loss=0.81446) (dice score=0.67888): 100%|██████████| 14/14 [00:56<00:00,  4.07s/it]\n",
            "Evaluating (94 / 200 EPOCHS) (loss=0.82046) (dice score=0.63968): 100%|██████████| 8/8 [00:08<00:00,  1.05s/it]\n"
          ]
        },
        {
          "output_type": "stream",
          "name": "stdout",
          "text": [
            "Best record! [94] Test Loss: 0.822040, Dice score: 0.650782\n",
            "saved model\n"
          ]
        },
        {
          "output_type": "stream",
          "name": "stderr",
          "text": [
            "Training (95 / 200 EPOCHS) (loss=0.74701) (dice score=0.69556): 100%|██████████| 14/14 [00:56<00:00,  4.04s/it]\n",
            "Evaluating (95 / 200 EPOCHS) (loss=0.82356) (dice score=0.65672): 100%|██████████| 8/8 [00:08<00:00,  1.00s/it]\n",
            "Training (96 / 200 EPOCHS) (loss=0.88310) (dice score=0.71448): 100%|██████████| 14/14 [00:57<00:00,  4.10s/it]\n",
            "Evaluating (96 / 200 EPOCHS) (loss=0.80035) (dice score=0.67013): 100%|██████████| 8/8 [00:08<00:00,  1.02s/it]\n"
          ]
        },
        {
          "output_type": "stream",
          "name": "stdout",
          "text": [
            "Best record! [96] Test Loss: 0.813272, Dice score: 0.682102\n",
            "saved model\n"
          ]
        },
        {
          "output_type": "stream",
          "name": "stderr",
          "text": [
            "Training (97 / 200 EPOCHS) (loss=0.77182) (dice score=0.71448): 100%|██████████| 14/14 [00:56<00:00,  4.03s/it]\n",
            "Evaluating (97 / 200 EPOCHS) (loss=0.80532) (dice score=0.66788): 100%|██████████| 8/8 [00:08<00:00,  1.06s/it]\n"
          ]
        },
        {
          "output_type": "stream",
          "name": "stdout",
          "text": [
            "Best record! [97] Test Loss: 0.810211, Dice score: 0.679470\n",
            "saved model\n"
          ]
        },
        {
          "output_type": "stream",
          "name": "stderr",
          "text": [
            "Training (98 / 200 EPOCHS) (loss=0.76150) (dice score=0.72078): 100%|██████████| 14/14 [00:56<00:00,  4.07s/it]\n",
            "Evaluating (98 / 200 EPOCHS) (loss=0.80418) (dice score=0.67904): 100%|██████████| 8/8 [00:08<00:00,  1.05s/it]\n"
          ]
        },
        {
          "output_type": "stream",
          "name": "stdout",
          "text": [
            "Best record! [98] Test Loss: 0.809524, Dice score: 0.688837\n",
            "saved model\n"
          ]
        },
        {
          "output_type": "stream",
          "name": "stderr",
          "text": [
            "Training (99 / 200 EPOCHS) (loss=0.70833) (dice score=0.71856): 100%|██████████| 14/14 [00:55<00:00,  4.00s/it]\n",
            "Evaluating (99 / 200 EPOCHS) (loss=0.78437) (dice score=0.67286): 100%|██████████| 8/8 [00:07<00:00,  1.01it/s]\n"
          ]
        },
        {
          "output_type": "stream",
          "name": "stdout",
          "text": [
            "Best record! [99] Test Loss: 0.793896, Dice score: 0.685198\n",
            "saved model\n"
          ]
        },
        {
          "output_type": "stream",
          "name": "stderr",
          "text": [
            "Training (100 / 200 EPOCHS) (loss=0.73517) (dice score=0.67686): 100%|██████████| 14/14 [00:56<00:00,  4.06s/it]\n",
            "Evaluating (100 / 200 EPOCHS) (loss=0.77943) (dice score=0.63785): 100%|██████████| 8/8 [00:08<00:00,  1.03s/it]\n",
            "Training (101 / 200 EPOCHS) (loss=0.80841) (dice score=0.69430): 100%|██████████| 14/14 [00:56<00:00,  4.05s/it]\n",
            "Evaluating (101 / 200 EPOCHS) (loss=0.77393) (dice score=0.65434): 100%|██████████| 8/8 [00:08<00:00,  1.07s/it]\n",
            "Training (102 / 200 EPOCHS) (loss=0.78440) (dice score=0.70876): 100%|██████████| 14/14 [00:56<00:00,  4.02s/it]\n",
            "Evaluating (102 / 200 EPOCHS) (loss=0.77072) (dice score=0.66408): 100%|██████████| 8/8 [00:08<00:00,  1.06s/it]\n"
          ]
        },
        {
          "output_type": "stream",
          "name": "stdout",
          "text": [
            "Best record! [102] Test Loss: 0.786189, Dice score: 0.675418\n",
            "saved model\n"
          ]
        },
        {
          "output_type": "stream",
          "name": "stderr",
          "text": [
            "Training (103 / 200 EPOCHS) (loss=0.77268) (dice score=0.72116): 100%|██████████| 14/14 [00:56<00:00,  4.06s/it]\n",
            "Evaluating (103 / 200 EPOCHS) (loss=0.78983) (dice score=0.66671): 100%|██████████| 8/8 [00:08<00:00,  1.07s/it]\n"
          ]
        },
        {
          "output_type": "stream",
          "name": "stdout",
          "text": [
            "Best record! [103] Test Loss: 0.784720, Dice score: 0.682311\n",
            "saved model\n"
          ]
        },
        {
          "output_type": "stream",
          "name": "stderr",
          "text": [
            "Training (104 / 200 EPOCHS) (loss=0.81588) (dice score=0.71279): 100%|██████████| 14/14 [00:58<00:00,  4.17s/it]\n",
            "Evaluating (104 / 200 EPOCHS) (loss=0.76514) (dice score=0.66661): 100%|██████████| 8/8 [00:08<00:00,  1.12s/it]\n",
            "Training (105 / 200 EPOCHS) (loss=0.73429) (dice score=0.73204): 100%|██████████| 14/14 [00:58<00:00,  4.16s/it]\n",
            "Evaluating (105 / 200 EPOCHS) (loss=0.75695) (dice score=0.69047): 100%|██████████| 8/8 [00:08<00:00,  1.11s/it]\n"
          ]
        },
        {
          "output_type": "stream",
          "name": "stdout",
          "text": [
            "Best record! [105] Test Loss: 0.771802, Dice score: 0.700001\n",
            "saved model\n"
          ]
        },
        {
          "output_type": "stream",
          "name": "stderr",
          "text": [
            "Training (106 / 200 EPOCHS) (loss=0.66667) (dice score=0.73898): 100%|██████████| 14/14 [00:58<00:00,  4.16s/it]\n",
            "Evaluating (106 / 200 EPOCHS) (loss=0.75738) (dice score=0.69315): 100%|██████████| 8/8 [00:08<00:00,  1.06s/it]\n"
          ]
        },
        {
          "output_type": "stream",
          "name": "stdout",
          "text": [
            "Best record! [106] Test Loss: 0.752915, Dice score: 0.706024\n",
            "saved model\n"
          ]
        },
        {
          "output_type": "stream",
          "name": "stderr",
          "text": [
            "Training (107 / 200 EPOCHS) (loss=0.63737) (dice score=0.71656): 100%|██████████| 14/14 [00:58<00:00,  4.20s/it]\n",
            "Evaluating (107 / 200 EPOCHS) (loss=0.74932) (dice score=0.67496): 100%|██████████| 8/8 [00:08<00:00,  1.09s/it]\n",
            "Training (108 / 200 EPOCHS) (loss=0.76905) (dice score=0.72394): 100%|██████████| 14/14 [00:57<00:00,  4.12s/it]\n",
            "Evaluating (108 / 200 EPOCHS) (loss=0.73305) (dice score=0.68209): 100%|██████████| 8/8 [00:08<00:00,  1.08s/it]\n"
          ]
        },
        {
          "output_type": "stream",
          "name": "stdout",
          "text": [
            "Best record! [108] Test Loss: 0.751617, Dice score: 0.693808\n",
            "saved model\n"
          ]
        },
        {
          "output_type": "stream",
          "name": "stderr",
          "text": [
            "Training (109 / 200 EPOCHS) (loss=0.76877) (dice score=0.75468): 100%|██████████| 14/14 [00:59<00:00,  4.23s/it]\n",
            "Evaluating (109 / 200 EPOCHS) (loss=0.74169) (dice score=0.70848): 100%|██████████| 8/8 [00:08<00:00,  1.09s/it]\n"
          ]
        },
        {
          "output_type": "stream",
          "name": "stdout",
          "text": [
            "Best record! [109] Test Loss: 0.743488, Dice score: 0.721107\n",
            "saved model\n"
          ]
        },
        {
          "output_type": "stream",
          "name": "stderr",
          "text": [
            "Training (110 / 200 EPOCHS) (loss=0.78792) (dice score=0.75435): 100%|██████████| 14/14 [00:57<00:00,  4.14s/it]\n",
            "Evaluating (110 / 200 EPOCHS) (loss=0.73303) (dice score=0.70426): 100%|██████████| 8/8 [00:08<00:00,  1.07s/it]\n"
          ]
        },
        {
          "output_type": "stream",
          "name": "stdout",
          "text": [
            "Best record! [110] Test Loss: 0.736945, Dice score: 0.718787\n",
            "saved model\n"
          ]
        },
        {
          "output_type": "stream",
          "name": "stderr",
          "text": [
            "Training (111 / 200 EPOCHS) (loss=0.68960) (dice score=0.77148): 100%|██████████| 14/14 [00:57<00:00,  4.12s/it]\n",
            "Evaluating (111 / 200 EPOCHS) (loss=0.73422) (dice score=0.71336): 100%|██████████| 8/8 [00:08<00:00,  1.09s/it]\n",
            "Training (112 / 200 EPOCHS) (loss=0.69297) (dice score=0.77573): 100%|██████████| 14/14 [00:57<00:00,  4.09s/it]\n",
            "Evaluating (112 / 200 EPOCHS) (loss=0.68908) (dice score=0.72350): 100%|██████████| 8/8 [00:08<00:00,  1.08s/it]\n"
          ]
        },
        {
          "output_type": "stream",
          "name": "stdout",
          "text": [
            "Best record! [112] Test Loss: 0.717526, Dice score: 0.736849\n",
            "saved model\n"
          ]
        },
        {
          "output_type": "stream",
          "name": "stderr",
          "text": [
            "Training (113 / 200 EPOCHS) (loss=0.58681) (dice score=0.79379): 100%|██████████| 14/14 [00:57<00:00,  4.12s/it]\n",
            "Evaluating (113 / 200 EPOCHS) (loss=0.70530) (dice score=0.73676): 100%|██████████| 8/8 [00:07<00:00,  1.01it/s]\n"
          ]
        },
        {
          "output_type": "stream",
          "name": "stdout",
          "text": [
            "Best record! [113] Test Loss: 0.706001, Dice score: 0.752690\n",
            "saved model\n"
          ]
        },
        {
          "output_type": "stream",
          "name": "stderr",
          "text": [
            "Training (114 / 200 EPOCHS) (loss=0.71204) (dice score=0.78192): 100%|██████████| 14/14 [00:58<00:00,  4.15s/it]\n",
            "Evaluating (114 / 200 EPOCHS) (loss=0.70315) (dice score=0.71766): 100%|██████████| 8/8 [00:08<00:00,  1.08s/it]\n",
            "Training (115 / 200 EPOCHS) (loss=0.72429) (dice score=0.78492): 100%|██████████| 14/14 [00:57<00:00,  4.13s/it]\n",
            "Evaluating (115 / 200 EPOCHS) (loss=0.72613) (dice score=0.72410): 100%|██████████| 8/8 [00:08<00:00,  1.08s/it]\n",
            "Training (116 / 200 EPOCHS) (loss=0.57978) (dice score=0.77730): 100%|██████████| 14/14 [00:58<00:00,  4.16s/it]\n",
            "Evaluating (116 / 200 EPOCHS) (loss=0.69262) (dice score=0.72120): 100%|██████████| 8/8 [00:08<00:00,  1.06s/it]\n"
          ]
        },
        {
          "output_type": "stream",
          "name": "stdout",
          "text": [
            "Best record! [116] Test Loss: 0.692511, Dice score: 0.736259\n",
            "saved model\n"
          ]
        },
        {
          "output_type": "stream",
          "name": "stderr",
          "text": [
            "Training (117 / 200 EPOCHS) (loss=0.67940) (dice score=0.79147):  57%|█████▋    | 8/14 [00:33<00:26,  4.37s/it]"
          ]
        }
      ]
    },
    {
      "cell_type": "code",
      "source": [
        "epochs = [i for i in range(len(losses['train']))]\n",
        "train_loss = losses['train']\n",
        "val_loss = losses['val']\n",
        "train_dice = dice_scores['train']\n",
        "val_dice = dice_scores['val']\n",
        "\n",
        "fig , ax = plt.subplots(1,2)\n",
        "fig.set_size_inches(12,6)\n",
        "\n",
        "ax[0].plot(epochs , train_loss , 'g-o' , label = 'Training Loss')\n",
        "ax[0].plot(epochs , val_loss , 'r-o' , label = 'Validation Loss')\n",
        "ax[0].set_title('Training & Validation Loss')\n",
        "ax[0].legend()\n",
        "ax[0].set_xlabel(\"Epochs\")\n",
        "ax[0].set_ylabel(\"Loss\")\n",
        "\n",
        "ax[1].plot(epochs , train_dice , 'go-' , label = 'Training Dice score')\n",
        "ax[1].plot(epochs , val_dice , 'ro-' , label = 'Validation Dice score')\n",
        "ax[1].set_title('Training & Validation Dice score')\n",
        "ax[1].legend()\n",
        "ax[1].set_xlabel(\"Epochs\")\n",
        "ax[1].set_ylabel(\"Dice score\")\n",
        "\n",
        "plt.show()"
      ],
      "metadata": {
        "id": "YuO30yRz8rBp"
      },
      "execution_count": null,
      "outputs": []
    },
    {
      "cell_type": "code",
      "source": [
        "pred_dict = {'input':[], 'target':[], 'output':[]}\n",
        "\n",
        "if MODEL_SAVE:\n",
        "    model.load_state_dict(torch.load(os.path.join(MODEL_SAVE_PATH, model_name)))\n",
        "\n",
        "model.to('cpu')\n",
        "model.eval()\n",
        "with torch.no_grad():\n",
        "    for i, data in enumerate(test_loader):\n",
        "        img, target = data[\"image\"].cpu(), data[\"label\"].cpu()\n",
        "\n",
        "        output = model(img).detach().cpu()\n",
        "        output = torch.argmax(output, dim=1)\n",
        "        \n",
        "        pred_dict['input'].append(img)\n",
        "        pred_dict['target'].append(target)\n",
        "        pred_dict['output'].append(output)\n",
        "        \n",
        "        if i > 10:\n",
        "            break"
      ],
      "metadata": {
        "id": "M2uCAAEXXXVa"
      },
      "execution_count": null,
      "outputs": []
    },
    {
      "cell_type": "code",
      "source": [
        "ncols, nrows = 10, 3*3\n",
        "interval = int(IMAGE_SIZE[-1]//(ncols*nrows/3))\n",
        "fig, axes = plt.subplots(ncols=ncols, nrows=nrows, figsize=(ncols,nrows))\n",
        "cnt1, cnt2, cnt3 = 0, 0, 0\n",
        "for i in range(nrows):\n",
        "    for j in range(ncols):\n",
        "        if i%3 == 0:\n",
        "            axes[i,j].imshow(pred_dict['input'][0][0,0,:,:,cnt1], cmap='gray')\n",
        "            cnt1+=interval\n",
        "        elif i%3 == 1:\n",
        "            axes[i,j].imshow(pred_dict['target'][0][0,0,:,:,cnt2], cmap='gray')\n",
        "            cnt2+=interval\n",
        "        else:\n",
        "            axes[i,j].imshow(pred_dict['output'][0][0,:,:,cnt3], cmap='gray')\n",
        "            cnt3+=interval\n",
        "        axes[i,j].axis('off')\n",
        "plt.subplots_adjust(wspace=0, hspace=0, left=0, right=1, bottom=0, top=1)\n",
        "plt.show()  "
      ],
      "metadata": {
        "id": "3zXuZV6MXf32"
      },
      "execution_count": null,
      "outputs": []
    },
    {
      "cell_type": "code",
      "source": [
        "plt.savefig(r\"C:\\Users\\jungr\\OneDrive\\바탕 화면\\data/PS_predictions_ORGAN_ONLY.png\")"
      ],
      "metadata": {
        "id": "ofsIvJ5NXtCt"
      },
      "execution_count": null,
      "outputs": []
    },
    {
      "cell_type": "code",
      "source": [],
      "metadata": {
        "id": "kBEgl1xXYA4N"
      },
      "execution_count": null,
      "outputs": []
    }
  ]
}